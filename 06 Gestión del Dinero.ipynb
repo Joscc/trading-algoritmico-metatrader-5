{
 "cells": [
  {
   "cell_type": "markdown",
   "id": "735390d1",
   "metadata": {},
   "source": [
    "# Capítulo 06: Gestión del dinero\n",
    "\n",
    "💰 Únete a la comunidad de [Discord](https://discord.gg/z3dx5XpkX4)\n",
    "\n",
    "📚 Puedes leer nuestro libro en [Amazon](https://www.amazon.es/Python-para-finanzas-trading-algor%C3%ADtmico-ebook/dp/B0BT4ZS9Q3)\n",
    "\n",
    "🖥️ El canal de [YouTube de Quantreo's](https://www.youtube.com/channel/UCp7jckfiEglNf_Gj62VR0pw) (en inglés) y el de [Frogames](https://www.youtube.com/channel/UCMUxXNYrVCv6-bQakhomvBg) en Español\n"
   ]
  },
  {
   "cell_type": "code",
   "execution_count": 1,
   "id": "c9512371",
   "metadata": {},
   "outputs": [
    {
     "name": "stderr",
     "output_type": "stream",
     "text": [
      "C:\\Users\\juangabriel\\anaconda3\\lib\\site-packages\\numpy\\_distributor_init.py:30: UserWarning: loaded more than 1 DLL from .libs:\n",
      "C:\\Users\\juangabriel\\anaconda3\\lib\\site-packages\\numpy\\.libs\\libopenblas.GK7GX5KEQ4F6UYO3P26ULGBQYHGQO7J4.gfortran-win_amd64.dll\n",
      "C:\\Users\\juangabriel\\anaconda3\\lib\\site-packages\\numpy\\.libs\\libopenblas64__v0.3.21-gcc_10_3_0.dll\n",
      "  warnings.warn(\"loaded more than 1 DLL from .libs:\"\n"
     ]
    }
   ],
   "source": [
    "# Importar las librerías\n",
    "import MetaTrader5 as mt5\n",
    "from datetime import datetime\n",
    "import numpy as np"
   ]
  },
  {
   "cell_type": "code",
   "execution_count": 33,
   "id": "24a9d118",
   "metadata": {},
   "outputs": [
    {
     "data": {
      "text/plain": [
       "True"
      ]
     },
     "execution_count": 33,
     "metadata": {},
     "output_type": "execute_result"
    }
   ],
   "source": [
    "# Crear la conexión entre MT5 y Python\n",
    "mt5.initialize()"
   ]
  },
  {
   "cell_type": "markdown",
   "id": "d07b406f",
   "metadata": {},
   "source": [
    "### Colocar una orden con take profit & stop loss"
   ]
  },
  {
   "cell_type": "code",
   "execution_count": 36,
   "id": "da38caed",
   "metadata": {},
   "outputs": [
    {
     "data": {
      "text/plain": [
       "'Done'"
      ]
     },
     "execution_count": 36,
     "metadata": {},
     "output_type": "execute_result"
    }
   ],
   "source": [
    "# Colocar una orden de compra con take profit\n",
    "# Valor de inicialización\n",
    "lot = 0.1\n",
    "symbol = \"EURUSD\"\n",
    "\n",
    "# Extraemos el punto del símbolo\n",
    "point = mt5.symbol_info(symbol).point\n",
    "\n",
    "# Elegimos la desviación\n",
    "deviation = 10\n",
    "\n",
    "#Elegimos el filling model del símbolo\n",
    "filling_type = mt5.symbol_info(symbol).filling_mode\n",
    "\n",
    "# Creamos una petición usando el diccionario\n",
    "request = {\n",
    "    \"action\": mt5.TRADE_ACTION_DEAL,\n",
    "    \"symbol\": symbol,\n",
    "    \"volume\": lot,\n",
    "    \"type\": mt5.ORDER_TYPE_BUY,\n",
    "    \"price\": mt5.symbol_info_tick(symbol).ask,\n",
    "    \"deviation\": deviation,\n",
    "    \"tp\": mt5.symbol_info_tick(symbol).ask + 100*point,\n",
    "    \"sl\": mt5.symbol_info_tick(symbol).ask - 100*point, \n",
    "    \"type_filling\": 1, #filling_type,\n",
    "    \"type_time\": mt5.ORDER_TIME_GTC,\n",
    "}\n",
    "\n",
    "mt5.order_check(request).comment"
   ]
  },
  {
   "cell_type": "code",
   "execution_count": 38,
   "id": "cdb0bbb3",
   "metadata": {},
   "outputs": [
    {
     "data": {
      "text/plain": [
       "'Done'"
      ]
     },
     "execution_count": 38,
     "metadata": {},
     "output_type": "execute_result"
    }
   ],
   "source": [
    "# Colocar una orden de venta con take profit\n",
    "# Valor de inicialización\n",
    "lot = 0.1\n",
    "symbol = \"EURUSD\"\n",
    "\n",
    "# Extraemos el punto del símbolo\n",
    "point = mt5.symbol_info(symbol).point\n",
    "\n",
    "# Elegimos la desviación\n",
    "deviation = 10\n",
    "\n",
    "#Elegimos el filling model del símbolo\n",
    "filling_type = 1#mt5.symbol_info(symbol).filling_mode\n",
    "\n",
    "# Creamos una petición usando el diccionario\n",
    "request = {\n",
    "    \"action\": mt5.TRADE_ACTION_DEAL,\n",
    "    \"symbol\": symbol,\n",
    "    \"volume\": lot,\n",
    "    \"type\": mt5.ORDER_TYPE_SELL,\n",
    "    \"price\": mt5.symbol_info_tick(symbol).bid,\n",
    "    \"deviation\": deviation,\n",
    "    \"tp\": mt5.symbol_info_tick(symbol).bid - 100 * point,\n",
    "    \"sl\": mt5.symbol_info_tick(symbol).bid + 100 * point, \n",
    "    \"type_filling\": filling_type,\n",
    "    \"type_time\": mt5.ORDER_TIME_GTC,\n",
    "}\n",
    "\n",
    "mt5.order_check(request).comment"
   ]
  },
  {
   "cell_type": "markdown",
   "id": "f2beacd7",
   "metadata": {},
   "source": [
    "### Encontrar el stop loss y take profit para un porcentaje de riesgo específico"
   ]
  },
  {
   "cell_type": "code",
   "execution_count": 16,
   "id": "43d6988c",
   "metadata": {},
   "outputs": [],
   "source": [
    "def risk_reward_threshold(symbol, buy=True, risk=0.01, reward=0.02):\n",
    "    \n",
    "    # Extraemos el apalancamiento\n",
    "    leverage = mt5.account_info().leverage\n",
    "\n",
    "    # Calculamos el precio de referencia\n",
    "    price = mt5.symbol_info(symbol).ask\n",
    "\n",
    "    # Extraemos el número de decimales\n",
    "    nb_decimal = str(price)[::-1].find(\".\")\n",
    "\n",
    "\n",
    "    # Calculamos las variaciones en porcentaje\n",
    "    var_down = risk/leverage\n",
    "    var_up = reward/leverage\n",
    "\n",
    "\n",
    "    # Encontrar el TP y SL usando el precio absoluto\n",
    "    if buy:\n",
    "        price = mt5.symbol_info(symbol).ask\n",
    "\n",
    "        # Calculamos las variaciones en valores absluto\n",
    "        price_var_down = var_down*price\n",
    "        price_var_up = var_up * price\n",
    "\n",
    "        tp = np.round(price + price_var_up, nb_decimal)\n",
    "        sl = np.round(price - price_var_down, nb_decimal)\n",
    "\n",
    "    else:\n",
    "\n",
    "        price = mt5.symbol_info(symbol).bid\n",
    "\n",
    "        # Calculamos las variaciones en valores absluto\n",
    "        price_var_down = var_down*price\n",
    "        price_var_up = var_up * price\n",
    "\n",
    "        tp = np.round(price - price_var_up, nb_decimal)\n",
    "        sl = np.round(price + price_var_down, nb_decimal)\n",
    "\n",
    "\n",
    "        \n",
    "    print(f\"PRICE: {price} \\t Take Profit: {tp} \\t Stop Loss: {sl}\")"
   ]
  },
  {
   "cell_type": "code",
   "execution_count": 17,
   "id": "bc012463",
   "metadata": {},
   "outputs": [
    {
     "name": "stdout",
     "output_type": "stream",
     "text": [
      "PRICE: 1.06871 \t Take Profit: 1.06892 \t Stop Loss: 1.0686\n"
     ]
    }
   ],
   "source": [
    "risk_reward_threshold(\"EURUSD\",buy=True)"
   ]
  },
  {
   "cell_type": "code",
   "execution_count": 19,
   "id": "fc2136a8",
   "metadata": {},
   "outputs": [
    {
     "data": {
      "text/plain": [
       "1.9649858240312477"
      ]
     },
     "execution_count": 19,
     "metadata": {},
     "output_type": "execute_result"
    }
   ],
   "source": [
    "(1.06892 - 1.06871) / 1.06871 * 100 * 100"
   ]
  },
  {
   "cell_type": "markdown",
   "id": "d98cfa33",
   "metadata": {},
   "source": [
    "### Encontrar el volumen en función de nuestro capital"
   ]
  },
  {
   "cell_type": "code",
   "execution_count": 28,
   "id": "a1a2de6c",
   "metadata": {},
   "outputs": [
    {
     "name": "stdout",
     "output_type": "stream",
     "text": [
      "CAPITAL INVERTIDO: 110\n",
      "APALANCAMIENTO: 100\n",
      "CAPITAL INVERTIDO APALANCADO: 11000\n",
      "TAMAÑO DEL COMERCIO: 10000.0\n",
      "PRECIO: 1.06796\n",
      "TAMAÑO DEL LOTE: 1.0300011236375894\n",
      "LOTE MÍNIMO: 0.1\n",
      "LOTE MÁXIMO: 100.0\n",
      "CIFRAS DECIMALES: 1\n",
      "TAMAÑO DEL LOTE REDONDEADO: 1.0\n",
      "TAMAÑO DEL LOTE SUGERIDO: 1.0\n"
     ]
    },
    {
     "data": {
      "text/plain": [
       "1.0"
      ]
     },
     "execution_count": 28,
     "metadata": {},
     "output_type": "execute_result"
    }
   ],
   "source": [
    "def position_size(capital, symbol):\n",
    "    mt5.initialize()\n",
    "    print(f\"CAPITAL INVERTIDO: {capital}\")\n",
    "    \n",
    "    leverage = mt5.account_info().leverage\n",
    "    print(f\"APALANCAMIENTO: {leverage}\")\n",
    "    \n",
    "    invested_capital = capital  * leverage\n",
    "    print(f\"CAPITAL INVERTIDO APALANCADO: {invested_capital}\")\n",
    "    \n",
    "    trade_size = mt5.symbol_info(symbol).trade_contract_size\n",
    "    print(f\"TAMAÑO DEL COMERCIO: {trade_size}\")\n",
    "    \n",
    "    price = (mt5.symbol_info(symbol).ask + mt5.symbol_info(symbol).bid)/2\n",
    "    print(f\"PRECIO: {price}\")\n",
    "\n",
    "    lot_size = invested_capital / trade_size / price\n",
    "    print(f\"TAMAÑO DEL LOTE: {lot_size}\")\n",
    "    \n",
    "    min_lot = mt5.symbol_info(symbol).volume_min\n",
    "    print(f\"LOTE MÍNIMO: {min_lot}\")\n",
    "    \n",
    "    max_lot = mt5.symbol_info(symbol).volume_max\n",
    "    print(f\"LOTE MÁXIMO: {max_lot}\")\n",
    "\n",
    "\n",
    "    if min_lot<lot_size:\n",
    "        number_decimal = str(min_lot)[::-1].find(\".\")\n",
    "        print(f\"CIFRAS DECIMALES: {number_decimal}\")\n",
    "\n",
    "        if number_decimal>0:\n",
    "            lot_size_rounded = np.round(lot_size, number_decimal)\n",
    "            print(f\"TAMAÑO DEL LOTE REDONDEADO: {lot_size_rounded}\")\n",
    "\n",
    "            if lot_size < lot_size_rounded:\n",
    "                lot_size_rounded = np.round(lot_size_rounded - min_lot, number_decimal)\n",
    "                print(f\"TAMAÑO DEL LOTE TRUNCADO: {lot_size_rounded}\")\n",
    "\n",
    "        else:\n",
    "            number_size_lot =  len(str(min_lot))\n",
    "\n",
    "            lot_size_rounded = int(np.round(lot_size, -number_size_lot))\n",
    "\n",
    "            if lot_size < lot_size_rounded:\n",
    "                lot_size_rounded = int(np.round(lot_size_rounded - number_size_lot, - number_size_lot))\n",
    "                \n",
    "        if lot_size_rounded>max_lot:\n",
    "            lot_size_rounded = max_lot\n",
    "            \n",
    "        print(f\"TAMAÑO DEL LOTE SUGERIDO: {lot_size_rounded}\")\n",
    "        return lot_size_rounded\n",
    "    else: \n",
    "        print(\"El capital invertido es demasiado pequeño para poder hacer un pedido\")\n",
    "        \n",
    "    \n",
    "    \n",
    "position_size(110, \"EURUSD\")"
   ]
  },
  {
   "cell_type": "code",
   "execution_count": null,
   "id": "055bf5a5",
   "metadata": {},
   "outputs": [],
   "source": []
  }
 ],
 "metadata": {
  "kernelspec": {
   "display_name": "Python 3 (ipykernel)",
   "language": "python",
   "name": "python3"
  },
  "language_info": {
   "codemirror_mode": {
    "name": "ipython",
    "version": 3
   },
   "file_extension": ".py",
   "mimetype": "text/x-python",
   "name": "python",
   "nbconvert_exporter": "python",
   "pygments_lexer": "ipython3",
   "version": "3.9.13"
  }
 },
 "nbformat": 4,
 "nbformat_minor": 5
}
