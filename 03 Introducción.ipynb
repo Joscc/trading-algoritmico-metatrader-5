{
 "cells": [
  {
   "cell_type": "markdown",
   "id": "30957071",
   "metadata": {},
   "source": [
    "# Capítulo 03: Introducción\n",
    "\n",
    "💰 Únete a la comunidad de [Discord](https://discord.gg/z3dx5XpkX4)\n",
    "\n",
    "📚 Puedes leer nuestro libro en [Amazon](https://www.amazon.es/Python-para-finanzas-trading-algor%C3%ADtmico-ebook/dp/B0BT4ZS9Q3)\n",
    "\n",
    "🖥️ El canal de [YouTube de Quantreo's](https://www.youtube.com/channel/UCp7jckfiEglNf_Gj62VR0pw) (en inglés) y el de [Frogames](https://www.youtube.com/channel/UCMUxXNYrVCv6-bQakhomvBg) en Español\n"
   ]
  },
  {
   "cell_type": "code",
   "execution_count": 32,
   "id": "f306305d",
   "metadata": {},
   "outputs": [
    {
     "name": "stdout",
     "output_type": "stream",
     "text": [
      "Requirement already satisfied: ta in c:\\users\\juangabriel\\appdata\\roaming\\python\\python39\\site-packages (0.10.2)\n",
      "Requirement already satisfied: pandas in c:\\users\\juangabriel\\anaconda3\\lib\\site-packages (from ta) (1.4.4)\n",
      "Requirement already satisfied: numpy in c:\\users\\juangabriel\\anaconda3\\lib\\site-packages (from ta) (1.24.2)\n",
      "Requirement already satisfied: python-dateutil>=2.8.1 in c:\\users\\juangabriel\\anaconda3\\lib\\site-packages (from pandas->ta) (2.8.2)\n",
      "Requirement already satisfied: pytz>=2020.1 in c:\\users\\juangabriel\\anaconda3\\lib\\site-packages (from pandas->ta) (2022.1)\n",
      "Requirement already satisfied: six>=1.5 in c:\\users\\juangabriel\\anaconda3\\lib\\site-packages (from python-dateutil>=2.8.1->pandas->ta) (1.16.0)\n",
      "Requirement already satisfied: datetime in c:\\users\\juangabriel\\appdata\\roaming\\python\\python39\\site-packages (5.0)\n",
      "Requirement already satisfied: zope.interface in c:\\users\\juangabriel\\anaconda3\\lib\\site-packages (from datetime) (5.4.0)\n",
      "Requirement already satisfied: pytz in c:\\users\\juangabriel\\anaconda3\\lib\\site-packages (from datetime) (2022.1)\n",
      "Requirement already satisfied: setuptools in c:\\users\\juangabriel\\anaconda3\\lib\\site-packages (from zope.interface->datetime) (63.4.1)\n",
      "Requirement already satisfied: MetaTrader5 in c:\\users\\juangabriel\\appdata\\roaming\\python\\python39\\site-packages (5.0.43)\n"
     ]
    }
   ],
   "source": [
    "# Instalar algunas librerías en nuestro ordenador\n",
    "import sys\n",
    "\n",
    "!{sys.executable} -m pip install ta\n",
    "!{sys.executable} -m pip install datetime\n",
    "!{sys.executable} -m pip install MetaTrader5 --no-deps"
   ]
  },
  {
   "cell_type": "code",
   "execution_count": 33,
   "id": "b5bcebbc",
   "metadata": {},
   "outputs": [
    {
     "name": "stdout",
     "output_type": "stream",
     "text": [
      "Requirement already satisfied: numpy in c:\\users\\juangabriel\\anaconda3\\lib\\site-packages (1.24.2)\n"
     ]
    }
   ],
   "source": [
    "!{sys.executable} -m pip install numpy  --upgrade --no-deps"
   ]
  },
  {
   "cell_type": "code",
   "execution_count": 1,
   "id": "3a6b9a26",
   "metadata": {},
   "outputs": [
    {
     "name": "stderr",
     "output_type": "stream",
     "text": [
      "C:\\Users\\juangabriel\\anaconda3\\lib\\site-packages\\numpy\\_distributor_init.py:30: UserWarning: loaded more than 1 DLL from .libs:\n",
      "C:\\Users\\juangabriel\\anaconda3\\lib\\site-packages\\numpy\\.libs\\libopenblas.GK7GX5KEQ4F6UYO3P26ULGBQYHGQO7J4.gfortran-win_amd64.dll\n",
      "C:\\Users\\juangabriel\\anaconda3\\lib\\site-packages\\numpy\\.libs\\libopenblas64__v0.3.21-gcc_10_3_0.dll\n",
      "  warnings.warn(\"loaded more than 1 DLL from .libs:\"\n"
     ]
    }
   ],
   "source": [
    "# Importar librerías del broker\n",
    "import numpy as np\n",
    "import MetaTrader5 as mt5"
   ]
  },
  {
   "cell_type": "markdown",
   "id": "3d6c8bfa",
   "metadata": {},
   "source": [
    "### Inicializar la conexión entre MetaTrader 5 y Python\n",
    "\n",
    "**No olvides establecer en los parámetros de la plataforma MetaTrader5 la autorización para operar con trading algorítmico**"
   ]
  },
  {
   "cell_type": "code",
   "execution_count": 2,
   "id": "78f74793",
   "metadata": {},
   "outputs": [
    {
     "data": {
      "text/plain": [
       "True"
      ]
     },
     "execution_count": 2,
     "metadata": {},
     "output_type": "execute_result"
    }
   ],
   "source": [
    "# Initializar la conexión\n",
    "mt5.initialize()"
   ]
  },
  {
   "cell_type": "markdown",
   "id": "370e4afe",
   "metadata": {},
   "source": [
    "### Comprobar la naturaleza del último error para saber cómo corregirlo\n",
    "\n",
    "Enlace a la lista de códigos de error: https://www.mql5.com/es/docs/integration/python_metatrader5/mt5lasterror_py"
   ]
  },
  {
   "cell_type": "code",
   "execution_count": 3,
   "id": "4c2936b4",
   "metadata": {},
   "outputs": [
    {
     "data": {
      "text/plain": [
       "(1, 'Success')"
      ]
     },
     "execution_count": 3,
     "metadata": {},
     "output_type": "execute_result"
    }
   ],
   "source": [
    "# Comprobar el último error\n",
    "mt5.last_error()"
   ]
  },
  {
   "cell_type": "code",
   "execution_count": 4,
   "id": "445427b9",
   "metadata": {},
   "outputs": [
    {
     "data": {
      "text/plain": [
       "True"
      ]
     },
     "execution_count": 4,
     "metadata": {},
     "output_type": "execute_result"
    }
   ],
   "source": [
    "# Cerrar el vínculo entre MT5 y Python\n",
    "mt5.shutdown()"
   ]
  },
  {
   "cell_type": "code",
   "execution_count": 5,
   "id": "62dd3c4b",
   "metadata": {},
   "outputs": [
    {
     "data": {
      "text/plain": [
       "(1, 'Success')"
      ]
     },
     "execution_count": 5,
     "metadata": {},
     "output_type": "execute_result"
    }
   ],
   "source": [
    "# Comprobar el último error\n",
    "mt5.last_error()"
   ]
  },
  {
   "cell_type": "code",
   "execution_count": 6,
   "id": "0d5f00f2",
   "metadata": {},
   "outputs": [],
   "source": [
    "# Llamar a una función cuando la conexión está cerrada (Sin error visual pero sin salida de código)\n",
    "mt5.account_info()"
   ]
  },
  {
   "cell_type": "code",
   "execution_count": 7,
   "id": "aefff9db",
   "metadata": {},
   "outputs": [
    {
     "data": {
      "text/plain": [
       "(-10004, 'No IPC connection')"
      ]
     },
     "execution_count": 7,
     "metadata": {},
     "output_type": "execute_result"
    }
   ],
   "source": [
    "# Comprobar el último error\n",
    "mt5.last_error()"
   ]
  },
  {
   "cell_type": "code",
   "execution_count": 8,
   "id": "5faa7c42",
   "metadata": {},
   "outputs": [
    {
     "data": {
      "text/plain": [
       "True"
      ]
     },
     "execution_count": 8,
     "metadata": {},
     "output_type": "execute_result"
    }
   ],
   "source": [
    "# Inicializar la conexión\n",
    "mt5.initialize()"
   ]
  },
  {
   "cell_type": "markdown",
   "id": "2afdead9",
   "metadata": {},
   "source": [
    "### Extraer información de la cuenta"
   ]
  },
  {
   "cell_type": "code",
   "execution_count": 9,
   "id": "497b7c38",
   "metadata": {},
   "outputs": [
    {
     "data": {
      "text/plain": [
       "AccountInfo(login=1387537, trade_mode=0, leverage=100, limit_orders=0, margin_so_mode=0, trade_allowed=True, trade_expert=True, margin_mode=0, currency_digits=2, fifo_close=False, balance=100000.0, credit=0.0, profit=0.0, equity=100000.0, margin=0.0, margin_free=100000.0, margin_level=0.0, margin_so_call=100.0, margin_so_so=50.0, margin_initial=0.0, margin_maintenance=0.0, assets=0.0, liabilities=0.0, commission_blocked=0.0, name='Juan Gabriel Gomila', server='AMPGlobalEU-Demo', currency='EUR', company='AMP Global Ltd.')"
      ]
     },
     "execution_count": 9,
     "metadata": {},
     "output_type": "execute_result"
    }
   ],
   "source": [
    "# Extraer información de la cuenta\n",
    "mt5.account_info()"
   ]
  },
  {
   "cell_type": "code",
   "execution_count": 10,
   "id": "caba923a",
   "metadata": {},
   "outputs": [
    {
     "data": {
      "text/plain": [
       "100000.0"
      ]
     },
     "execution_count": 10,
     "metadata": {},
     "output_type": "execute_result"
    }
   ],
   "source": [
    "# Extraer balance de la cuenta\n",
    "information = mt5.account_info()\n",
    "information.balance"
   ]
  },
  {
   "cell_type": "code",
   "execution_count": 11,
   "id": "7a6ba2ea",
   "metadata": {},
   "outputs": [
    {
     "data": {
      "text/plain": [
       "1387537"
      ]
     },
     "execution_count": 11,
     "metadata": {},
     "output_type": "execute_result"
    }
   ],
   "source": [
    "# Extraer información del login de la cuenta\n",
    "information.login"
   ]
  },
  {
   "cell_type": "code",
   "execution_count": 13,
   "id": "060793f8",
   "metadata": {},
   "outputs": [
    {
     "data": {
      "text/plain": [
       "100"
      ]
     },
     "execution_count": 13,
     "metadata": {},
     "output_type": "execute_result"
    }
   ],
   "source": [
    "# Extraer información del apalancamiento\n",
    "information.leverage"
   ]
  },
  {
   "cell_type": "code",
   "execution_count": 14,
   "id": "7e9cc92e",
   "metadata": {},
   "outputs": [
    {
     "data": {
      "text/plain": [
       "'AMPGlobalEU-Demo'"
      ]
     },
     "execution_count": 14,
     "metadata": {},
     "output_type": "execute_result"
    }
   ],
   "source": [
    "# Extraer información del servidor\n",
    "information.server"
   ]
  },
  {
   "cell_type": "markdown",
   "id": "a3daeb5b",
   "metadata": {},
   "source": [
    "### Extraer información del símbolo"
   ]
  },
  {
   "cell_type": "code",
   "execution_count": 15,
   "id": "835dd8e5",
   "metadata": {},
   "outputs": [
    {
     "data": {
      "text/plain": [
       "SymbolInfo(custom=False, chart_mode=0, select=True, visible=True, session_deals=0, session_buy_orders=0, session_sell_orders=0, volume=0, volumehigh=0, volumelow=0, time=1675774165, digits=5, spread=6, spread_float=True, ticks_bookdepth=32, trade_calc_mode=5, trade_mode=4, start_time=0, expiration_time=0, trade_stops_level=1, trade_freeze_level=1, trade_exemode=2, swap_mode=1, swap_rollover3days=3, margin_hedged_use_leg=False, expiration_mode=15, filling_mode=3, order_mode=127, order_gtc_mode=0, option_mode=0, option_right=0, bid=1.07033, bidhigh=1.07436, bidlow=1.06969, ask=1.07039, askhigh=1.07439, asklow=1.06974, last=0.0, lasthigh=0.0, lastlow=0.0, volume_real=0.0, volumehigh_real=0.0, volumelow_real=0.0, option_strike=0.0, point=1e-05, trade_tick_value=0.09342389222619794, trade_tick_value_profit=0.09342389222619794, trade_tick_value_loss=0.09342912933394375, trade_tick_size=1e-05, trade_contract_size=10000.0, trade_accrued_interest=0.0, trade_face_value=0.0, trade_liquidity_rate=0.0, volume_min=0.1, volume_max=100.0, volume_step=0.1, volume_limit=0.0, swap_long=-15.4, swap_short=-2.4, margin_initial=0.0, margin_maintenance=0.0, session_volume=0.0, session_turnover=0.0, session_interest=0.0, session_buy_orders_volume=0.0, session_sell_orders_volume=0.0, session_open=1.07287, session_close=1.07287, session_aw=0.0, session_price_settlement=0.0, session_price_limit_min=0.0, session_price_limit_max=0.0, margin_hedged=0.0, price_change=-0.2367, price_volatility=0.0, price_theoretical=0.0, price_greeks_delta=0.0, price_greeks_theta=0.0, price_greeks_gamma=0.0, price_greeks_vega=0.0, price_greeks_rho=0.0, price_greeks_omega=0.0, price_sensitivity=0.0, basis='', category='', currency_base='EUR', currency_profit='USD', currency_margin='EUR', bank='', description='Euro vs. United States Dollar', exchange='', formula='', isin='', name='EURUSD', page='', path='Forex\\\\FX-Majors\\\\EURUSD')"
      ]
     },
     "execution_count": 15,
     "metadata": {},
     "output_type": "execute_result"
    }
   ],
   "source": [
    "# Extraer toda la información\n",
    "mt5.symbol_info(\"EURUSD\")"
   ]
  },
  {
   "cell_type": "code",
   "execution_count": 16,
   "id": "09764013",
   "metadata": {},
   "outputs": [
    {
     "data": {
      "text/plain": [
       "1.07036"
      ]
     },
     "execution_count": 16,
     "metadata": {},
     "output_type": "execute_result"
    }
   ],
   "source": [
    "# Extraer el precio máximo de compra\n",
    "symbol = mt5.symbol_info(\"EURUSD\")\n",
    "symbol.bid"
   ]
  },
  {
   "cell_type": "code",
   "execution_count": 17,
   "id": "6702f13b",
   "metadata": {},
   "outputs": [
    {
     "data": {
      "text/plain": [
       "1.07041"
      ]
     },
     "execution_count": 17,
     "metadata": {},
     "output_type": "execute_result"
    }
   ],
   "source": [
    "# Extraer el mínimo precio de venta\n",
    "symbol.ask"
   ]
  },
  {
   "cell_type": "code",
   "execution_count": 18,
   "id": "65e60980",
   "metadata": {},
   "outputs": [
    {
     "data": {
      "text/plain": [
       "5"
      ]
     },
     "execution_count": 18,
     "metadata": {},
     "output_type": "execute_result"
    }
   ],
   "source": [
    "# Extraer la dispersión\n",
    "symbol.spread"
   ]
  },
  {
   "cell_type": "code",
   "execution_count": 38,
   "id": "c1204dc4",
   "metadata": {},
   "outputs": [
    {
     "data": {
      "text/plain": [
       "'Euro vs US Dollar'"
      ]
     },
     "execution_count": 38,
     "metadata": {},
     "output_type": "execute_result"
    }
   ],
   "source": [
    "# Extraer descripción del símbolo\n",
    "symbol.description"
   ]
  },
  {
   "cell_type": "code",
   "execution_count": 19,
   "id": "31fb0e98",
   "metadata": {},
   "outputs": [
    {
     "data": {
      "text/plain": [
       "'Forex\\\\FX-Majors\\\\EURUSD'"
      ]
     },
     "execution_count": 19,
     "metadata": {},
     "output_type": "execute_result"
    }
   ],
   "source": [
    "# Extraer ruta del símbolo\n",
    "symbol.path"
   ]
  },
  {
   "cell_type": "markdown",
   "id": "d89a78d2",
   "metadata": {},
   "source": [
    "### Extrae órdenes de los libros"
   ]
  },
  {
   "cell_type": "code",
   "execution_count": 20,
   "id": "3bf048d8",
   "metadata": {},
   "outputs": [
    {
     "data": {
      "text/plain": [
       "True"
      ]
     },
     "execution_count": 20,
     "metadata": {},
     "output_type": "execute_result"
    }
   ],
   "source": [
    "# Imposible conectarse a todas las órdenes del libro de símbolos (demasiados datos). Es necesario hacerlo uno por uno\n",
    "mt5.market_book_add(\"EURUSD\")"
   ]
  },
  {
   "cell_type": "code",
   "execution_count": 22,
   "id": "58976dee",
   "metadata": {},
   "outputs": [
    {
     "data": {
      "text/plain": [
       "(BookInfo(type=1, price=1.09043, volume=70000, volume_dbl=70000.0),\n",
       " BookInfo(type=1, price=1.07981, volume=100000, volume_dbl=100000.0),\n",
       " BookInfo(type=1, price=1.07013, volume=1000000, volume_dbl=1000000.0),\n",
       " BookInfo(type=1, price=1.0677699999999999, volume=310000, volume_dbl=310000.0),\n",
       " BookInfo(type=1, price=1.06767, volume=310000, volume_dbl=310000.0),\n",
       " BookInfo(type=1, price=1.06741, volume=3500000, volume_dbl=3500000.0),\n",
       " BookInfo(type=1, price=1.0674, volume=2500000, volume_dbl=2500000.0),\n",
       " BookInfo(type=1, price=1.06739, volume=1000000, volume_dbl=1000000.0),\n",
       " BookInfo(type=1, price=1.06738, volume=4500000, volume_dbl=4500000.0),\n",
       " BookInfo(type=1, price=1.06737, volume=1500000, volume_dbl=1500000.0),\n",
       " BookInfo(type=2, price=1.06731, volume=1500000, volume_dbl=1500000.0),\n",
       " BookInfo(type=2, price=1.0673, volume=3000000, volume_dbl=3000000.0),\n",
       " BookInfo(type=2, price=1.06729, volume=4500000, volume_dbl=4500000.0),\n",
       " BookInfo(type=2, price=1.06728, volume=2060000, volume_dbl=2060000.0),\n",
       " BookInfo(type=2, price=1.06727, volume=2010000, volume_dbl=2010000.0),\n",
       " BookInfo(type=2, price=1.06297, volume=100000, volume_dbl=100000.0))"
      ]
     },
     "execution_count": 22,
     "metadata": {},
     "output_type": "execute_result"
    }
   ],
   "source": [
    "# Obtener el libro de órdenes\n",
    "mt5.market_book_get(\"EURUSD\")"
   ]
  },
  {
   "cell_type": "code",
   "execution_count": 23,
   "id": "1bed461b",
   "metadata": {},
   "outputs": [
    {
     "data": {
      "text/plain": [
       "True"
      ]
     },
     "execution_count": 23,
     "metadata": {},
     "output_type": "execute_result"
    }
   ],
   "source": [
    "# Cerrar la conexión al libro de órdenes \n",
    "mt5.market_book_release(\"EURUSD\")"
   ]
  },
  {
   "cell_type": "markdown",
   "id": "74f6c123",
   "metadata": {},
   "source": [
    "### Añadir un símbolo a la observación del mercado"
   ]
  },
  {
   "cell_type": "code",
   "execution_count": 25,
   "id": "511601b0",
   "metadata": {},
   "outputs": [
    {
     "data": {
      "text/plain": [
       "True"
      ]
     },
     "execution_count": 25,
     "metadata": {},
     "output_type": "execute_result"
    }
   ],
   "source": [
    "# Añadir un símbolo a la observación del mercado\n",
    "mt5.symbol_select(\"SPC5\")"
   ]
  }
 ],
 "metadata": {
  "kernelspec": {
   "display_name": "Python 3 (ipykernel)",
   "language": "python",
   "name": "python3"
  },
  "language_info": {
   "codemirror_mode": {
    "name": "ipython",
    "version": 3
   },
   "file_extension": ".py",
   "mimetype": "text/x-python",
   "name": "python",
   "nbconvert_exporter": "python",
   "pygments_lexer": "ipython3",
   "version": "3.9.13"
  }
 },
 "nbformat": 4,
 "nbformat_minor": 5
}
