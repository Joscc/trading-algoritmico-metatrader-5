{
 "cells": [
  {
   "cell_type": "markdown",
   "id": "cbc71d5a",
   "metadata": {},
   "source": [
    "# Capítulo 11: Estructura de Ejecución\n",
    "\n",
    "💰 Únete a la comunidad de [Discord](https://discord.gg/z3dx5XpkX4)\n",
    "\n",
    "📚 Puedes leer nuestro libro en [Amazon](https://www.amazon.es/Python-para-finanzas-trading-algor%C3%ADtmico-ebook/dp/B0BT4ZS9Q3)\n",
    "\n",
    "🖥️ El canal de [YouTube de Quantreo's](https://www.youtube.com/channel/UCp7jckfiEglNf_Gj62VR0pw) (en inglés) y el de [Frogames](https://www.youtube.com/channel/UCMUxXNYrVCv6-bQakhomvBg) en Español"
   ]
  },
  {
   "cell_type": "code",
   "execution_count": 1,
   "id": "d1d4e69e",
   "metadata": {},
   "outputs": [
    {
     "name": "stderr",
     "output_type": "stream",
     "text": [
      "C:\\Users\\juangabriel\\anaconda3\\lib\\site-packages\\numpy\\_distributor_init.py:30: UserWarning: loaded more than 1 DLL from .libs:\n",
      "C:\\Users\\juangabriel\\anaconda3\\lib\\site-packages\\numpy\\.libs\\libopenblas.GK7GX5KEQ4F6UYO3P26ULGBQYHGQO7J4.gfortran-win_amd64.dll\n",
      "C:\\Users\\juangabriel\\anaconda3\\lib\\site-packages\\numpy\\.libs\\libopenblas64__v0.3.21-gcc_10_3_0.dll\n",
      "  warnings.warn(\"loaded more than 1 DLL from .libs:\"\n"
     ]
    }
   ],
   "source": [
    "import MetaTrader5 as mt5\n",
    "import pandas as pd\n",
    "import numpy as np\n",
    "\n",
    "import time\n",
    "from Personal_MT5_library import *\n",
    "from datetime import datetime"
   ]
  },
  {
   "cell_type": "code",
   "execution_count": 2,
   "id": "821697a3",
   "metadata": {},
   "outputs": [],
   "source": [
    "def run(symbol, buy, sell, lot, comment=\"\", magic=23400):\n",
    "\n",
    "        # Initialize the connection\n",
    "        mt5.initialize()\n",
    "\n",
    "        # Choose your  symbol\n",
    "        print(\"------------------------------------------------------------------\")\n",
    "        print(\"Date: \", datetime.now().strftime(\"%Y-%m-%d %H:%M:%S\"), \"\\tSYMBOL:\", symbol)\n",
    "\n",
    "        # Initialize the device\n",
    "        ouvertures = MT5.resume()\n",
    "\n",
    "        # Buy or sell\n",
    "        print(f\"BUY: {buy} \\t  SELL: {sell}\")\n",
    "\n",
    "        \"\"\" Close trade eventually \"\"\"\n",
    "        # Extraction type trade\n",
    "        try:\n",
    "            position = ouvertures.loc[ouvertures[\"symbol\"] == symbol].values[0][1]\n",
    "\n",
    "            identifier = ouvertures.loc[ouvertures[\"symbol\"] == symbol].values[0][0]\n",
    "        except:\n",
    "            position = None\n",
    "            identifier = None\n",
    "\n",
    "        if position!=None:\n",
    "            print(f\"POSITION: {position} \\t ID: {identifier}\")\n",
    "\n",
    "        # Verif trades\n",
    "        if buy == True and position == 0:\n",
    "            buy = False\n",
    "            \n",
    "        elif buy == False and position == 0:\n",
    "            before = mt5.account_info().balance\n",
    "            res = MT5.send_order(symbol, lot, True, False, id_position=identifier,pct_tp=0.02, pct_sl=0.01, comment=\" No specific comment\", magic=0)\n",
    "            after = mt5.account_info().balance\n",
    "            \n",
    "            print(f\"CLOSE BUY POSITION: {res.comment}\")\n",
    "            pct = np.round(100*(after-before)/before, 3)\n",
    "            \n",
    "            if res.comment != \"Request executed\":\n",
    "                print(\"WARNINGS\", res.comment)\n",
    "                \n",
    "            \n",
    "            \n",
    "        elif sell == True and position == 1:\n",
    "            sell = False\n",
    "            \n",
    "        elif sell == False and position == 1:\n",
    "            before = mt5.account_info().balance\n",
    "            res = MT5.send_order(symbol, lot, False, True, id_position=identifier,pct_tp=0.02, pct_sl=0.01, comment=\" No specific comment\", magic=0)\n",
    "            print(f\"CLOSE SELL POSITION: {res.comment}\")\n",
    "            after = mt5.account_info().balance\n",
    "            \n",
    "            pct = np.round(100*(after-before)/before, 3)\n",
    "            if res.comment != \"Request executed\":\n",
    "                print(\"WARNINGS\", res.comment)\n",
    "                \n",
    "                \n",
    "        else:\n",
    "            pass\n",
    "\n",
    "        \"\"\" Buy or Sell \"\"\"\n",
    "        if buy == True:\n",
    "            res =  MT5.send_order(symbol, lot, True, False, id_position=None,pct_tp=0.02, pct_sl=0.01, comment=\" No specific comment\", magic=0)\n",
    "            print(f\"OPEN BUY POSITION: {res.comment}\")\n",
    "            if res.comment != \"Request executed\":\n",
    "                print(\"WARNINGS\", res.comment)\n",
    "                \n",
    "        if sell == True:\n",
    "            res = MT5.send_order(symbol, lot, False, True, id_position=None,pct_tp=0.02, pct_sl=0.01, comment=\" No specific comment\", magic=0)\n",
    "            print(f\"OPEN SELL POSITION: {res.comment}\")\n",
    "            if res.comment != \"Request executed\":\n",
    "                print(\"WARNINGS\",  res.comment)\n",
    "        print(\"------------------------------------------------------------------\")\n",
    "\n"
   ]
  },
  {
   "cell_type": "code",
   "execution_count": 3,
   "id": "1f50013c",
   "metadata": {
    "scrolled": true
   },
   "outputs": [
    {
     "name": "stdout",
     "output_type": "stream",
     "text": [
      "------------------------------------------------------------------\n",
      "Date:  2022-03-20 07:53:46 \tSYMBOL: BTCUSD\n",
      "BUY: True \t  SELL: False\n",
      "OPEN BUY POSITION: Request executed\n",
      "------------------------------------------------------------------\n",
      "------------------------------------------------------------------\n",
      "Date:  2022-03-20 07:53:48 \tSYMBOL: BTCUSD\n",
      "BUY: False \t  SELL: False\n",
      "POSITION: 0 \t ID: 5135219\n",
      "CLOSE BUY POSITION: Request executed\n",
      "------------------------------------------------------------------\n",
      "------------------------------------------------------------------\n",
      "Date:  2022-03-20 07:53:49 \tSYMBOL: BTCUSD\n",
      "BUY: False \t  SELL: False\n",
      "------------------------------------------------------------------\n"
     ]
    }
   ],
   "source": [
    "import time\n",
    "from Personal_MT5_library import *\n",
    "from datetime import datetime\n",
    "\n",
    "\n",
    "mt5.initialize()\n",
    "\n",
    "buy = True\n",
    "sell = False\n",
    "run(\"XBTUSD\", buy, sell, 0.01)\n",
    "\n",
    "time.sleep(1)\n",
    "\n",
    "buy = False\n",
    "sell = False\n",
    "run(\"XBTUSD\", buy, sell, 0.01)\n",
    "\n",
    "\n",
    "time.sleep(1)\n",
    "\n",
    "buy = False\n",
    "sell = False\n",
    "run(\"XBTUSD\", buy, sell, 0.01)"
   ]
  },
  {
   "cell_type": "code",
   "execution_count": null,
   "id": "fc3d85d0",
   "metadata": {},
   "outputs": [],
   "source": []
  }
 ],
 "metadata": {
  "kernelspec": {
   "display_name": "Python 3 (ipykernel)",
   "language": "python",
   "name": "python3"
  },
  "language_info": {
   "codemirror_mode": {
    "name": "ipython",
    "version": 3
   },
   "file_extension": ".py",
   "mimetype": "text/x-python",
   "name": "python",
   "nbconvert_exporter": "python",
   "pygments_lexer": "ipython3",
   "version": "3.9.13"
  }
 },
 "nbformat": 4,
 "nbformat_minor": 5
}
