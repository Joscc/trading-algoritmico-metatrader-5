{
 "cells": [
  {
   "cell_type": "markdown",
   "id": "9cfcdd85",
   "metadata": {},
   "source": [
    "# Capítulo 08: Manejo avanzado del dinero\n",
    "\n",
    "💰 Únete a la comunidad de [Discord](https://discord.gg/z3dx5XpkX4)\n",
    "\n",
    "📚 Puedes leer nuestro libro en [Amazon](https://www.amazon.es/Python-para-finanzas-trading-algor%C3%ADtmico-ebook/dp/B0BT4ZS9Q3)\n",
    "\n",
    "🖥️ El canal de [YouTube de Quantreo's](https://www.youtube.com/channel/UCp7jckfiEglNf_Gj62VR0pw) (en inglés) y el de [Frogames](https://www.youtube.com/channel/UCMUxXNYrVCv6-bQakhomvBg) en Español"
   ]
  },
  {
   "cell_type": "code",
   "execution_count": 11,
   "id": "64afb965",
   "metadata": {},
   "outputs": [
    {
     "data": {
      "text/plain": [
       "True"
      ]
     },
     "execution_count": 11,
     "metadata": {},
     "output_type": "execute_result"
    }
   ],
   "source": [
    "import MetaTrader5 as mt5\n",
    "import pandas as pd\n",
    "import numpy as np\n",
    "import time\n",
    "mt5.initialize()"
   ]
  },
  {
   "cell_type": "markdown",
   "id": "779f7807",
   "metadata": {},
   "source": [
    "### Extraer las posiciones actuales"
   ]
  },
  {
   "cell_type": "code",
   "execution_count": 4,
   "id": "8d4e2bcb",
   "metadata": {},
   "outputs": [
    {
     "data": {
      "text/plain": [
       "(TradePosition(ticket=231598598, time=1676299226, time_msc=1676299226671, time_update=1676299226, time_update_msc=1676299226671, type=0, magic=0, identifier=231598598, reason=3, volume=1.0, price_open=1.06976, sl=0.0, tp=0.0, price_current=1.06979, swap=0.0, profit=0.28, symbol='EURUSD', comment='', external_id='1049AE94DC6A6BA1'),)"
      ]
     },
     "execution_count": 4,
     "metadata": {},
     "output_type": "execute_result"
    }
   ],
   "source": [
    "mt5.positions_get()"
   ]
  },
  {
   "cell_type": "code",
   "execution_count": 12,
   "id": "28420f5f",
   "metadata": {},
   "outputs": [],
   "source": [
    "def resume():\n",
    "    \"\"\" Devuelve las posiciones actuales. position=0 --> Buy \"\"\"    \n",
    "    # Definimos el nombre de las columnas que vamos a calcular\n",
    "    columns = [\"ticket\", \"position\", \"symbol\", \"volume\", \"magic\", \"profit\", \"price\", \"tp\", \"sl\",\"trade_size\"]\n",
    "\n",
    "    # Obtenemos la lista de posiciones abiertas\n",
    "    list_current = mt5.positions_get()\n",
    "\n",
    "    # Creamos un dataframe vacío\n",
    "    summary = pd.DataFrame()\n",
    "\n",
    "    # Bucle para añadir cada fila al dataframe\n",
    "    for element in list_current:\n",
    "        element_pandas = pd.DataFrame([element.ticket, element.type, element.symbol, element.volume, element.magic,\n",
    "                                       element.profit, element.price_open, element.tp,\n",
    "                                       element.sl, mt5.symbol_info(element.symbol).trade_contract_size],\n",
    "                                      index=columns).transpose()\n",
    "        summary = pd.concat((summary, element_pandas), axis=0)\n",
    "    \n",
    "    try:\n",
    "        summary[\"profit %\"] = summary.profit / (summary.price * summary.trade_size * summary.volume)\n",
    "        summary = summary.reset_index(drop=True)\n",
    "    except:\n",
    "        pass\n",
    "    return summary"
   ]
  },
  {
   "cell_type": "code",
   "execution_count": 13,
   "id": "f7e11e44",
   "metadata": {},
   "outputs": [
    {
     "data": {
      "text/html": [
       "<div>\n",
       "<style scoped>\n",
       "    .dataframe tbody tr th:only-of-type {\n",
       "        vertical-align: middle;\n",
       "    }\n",
       "\n",
       "    .dataframe tbody tr th {\n",
       "        vertical-align: top;\n",
       "    }\n",
       "\n",
       "    .dataframe thead th {\n",
       "        text-align: right;\n",
       "    }\n",
       "</style>\n",
       "<table border=\"1\" class=\"dataframe\">\n",
       "  <thead>\n",
       "    <tr style=\"text-align: right;\">\n",
       "      <th></th>\n",
       "      <th>ticket</th>\n",
       "      <th>position</th>\n",
       "      <th>symbol</th>\n",
       "      <th>volume</th>\n",
       "      <th>magic</th>\n",
       "      <th>profit</th>\n",
       "      <th>price</th>\n",
       "      <th>tp</th>\n",
       "      <th>sl</th>\n",
       "      <th>trade_size</th>\n",
       "      <th>profit %</th>\n",
       "    </tr>\n",
       "  </thead>\n",
       "  <tbody>\n",
       "    <tr>\n",
       "      <th>0</th>\n",
       "      <td>231635677</td>\n",
       "      <td>0</td>\n",
       "      <td>EURUSD</td>\n",
       "      <td>0.1</td>\n",
       "      <td>0</td>\n",
       "      <td>0.21</td>\n",
       "      <td>1.07429</td>\n",
       "      <td>0.0</td>\n",
       "      <td>0.0</td>\n",
       "      <td>10000.0</td>\n",
       "      <td>0.000195</td>\n",
       "    </tr>\n",
       "  </tbody>\n",
       "</table>\n",
       "</div>"
      ],
      "text/plain": [
       "      ticket position  symbol volume magic profit    price   tp   sl  \\\n",
       "0  231635677        0  EURUSD    0.1     0   0.21  1.07429  0.0  0.0   \n",
       "\n",
       "  trade_size  profit %  \n",
       "0    10000.0  0.000195  "
      ]
     },
     "execution_count": 13,
     "metadata": {},
     "output_type": "execute_result"
    }
   ],
   "source": [
    "resume()"
   ]
  },
  {
   "cell_type": "markdown",
   "id": "e3aadc41",
   "metadata": {},
   "source": [
    "### TRAILING STOP LOSS"
   ]
  },
  {
   "cell_type": "code",
   "execution_count": 14,
   "id": "4a9fc2e4",
   "metadata": {},
   "outputs": [
    {
     "name": "stdout",
     "output_type": "stream",
     "text": [
      "OrderSendResult(retcode=10013, deal=0, order=0, volume=0.0, price=0.0, bid=0.0, ask=0.0, comment='Invalid request', request_id=0, retcode_external=0, request=TradeRequest(action=6, magic=0, order=0, symbol='EURUSD', volume=0.1, price=1.07429, stoplimit=0.0, sl=0.00021500000000007624, tp=0.0, deviation=0, type=0, type_filling=3, type_time=0, expiration=0, comment='', position=231635677, position_by=0))\n",
      "{'EURUSD': 1.074505}\n",
      "{'EURUSD': 1.074505}\n",
      "OrderSendResult(retcode=10013, deal=0, order=0, volume=0.0, price=0.0, bid=0.0, ask=0.0, comment='Invalid request', request_id=0, retcode_external=0, request=TradeRequest(action=6, magic=0, order=0, symbol='EURUSD', volume=0.1, price=1.07429, stoplimit=0.0, sl=5.000000000032756e-06, tp=0.0, deviation=0, type=0, type_filling=3, type_time=0, expiration=0, comment='', position=231635677, position_by=0))\n",
      "{'EURUSD': 1.07451}\n",
      "{'EURUSD': 1.07451}\n",
      "{'EURUSD': 1.07451}\n",
      "OrderSendResult(retcode=10013, deal=0, order=0, volume=0.0, price=0.0, bid=0.0, ask=0.0, comment='Invalid request', request_id=0, retcode_external=0, request=TradeRequest(action=6, magic=0, order=0, symbol='EURUSD', volume=0.1, price=1.07429, stoplimit=0.0, sl=1.4999999999876223e-05, tp=0.0, deviation=0, type=0, type_filling=3, type_time=0, expiration=0, comment='', position=231635677, position_by=0))\n",
      "{'EURUSD': 1.074525}\n",
      "{'EURUSD': 1.074525}\n",
      "OrderSendResult(retcode=10013, deal=0, order=0, volume=0.0, price=0.0, bid=0.0, ask=0.0, comment='Invalid request', request_id=0, retcode_external=0, request=TradeRequest(action=6, magic=0, order=0, symbol='EURUSD', volume=0.1, price=1.07429, stoplimit=0.0, sl=1.4999999999876223e-05, tp=0.0, deviation=0, type=0, type_filling=3, type_time=0, expiration=0, comment='', position=231635677, position_by=0))\n",
      "{'EURUSD': 1.0745399999999998}\n",
      "{'EURUSD': 1.0745399999999998}\n"
     ]
    },
    {
     "ename": "KeyboardInterrupt",
     "evalue": "",
     "output_type": "error",
     "traceback": [
      "\u001b[1;31m---------------------------------------------------------------------------\u001b[0m",
      "\u001b[1;31mKeyboardInterrupt\u001b[0m                         Traceback (most recent call last)",
      "\u001b[1;32m~\\AppData\\Local\\Temp\\ipykernel_12124\\64263592.py\u001b[0m in \u001b[0;36m<module>\u001b[1;34m\u001b[0m\n\u001b[0;32m    116\u001b[0m     \u001b[0mprint\u001b[0m\u001b[1;33m(\u001b[0m\u001b[0mmax_price\u001b[0m\u001b[1;33m)\u001b[0m\u001b[1;33m\u001b[0m\u001b[1;33m\u001b[0m\u001b[0m\n\u001b[0;32m    117\u001b[0m     \u001b[1;31m# Evitamos el ruido\u001b[0m\u001b[1;33m\u001b[0m\u001b[1;33m\u001b[0m\u001b[0m\n\u001b[1;32m--> 118\u001b[1;33m     \u001b[0mtime\u001b[0m\u001b[1;33m.\u001b[0m\u001b[0msleep\u001b[0m\u001b[1;33m(\u001b[0m\u001b[1;36m1\u001b[0m\u001b[1;33m)\u001b[0m\u001b[1;33m\u001b[0m\u001b[1;33m\u001b[0m\u001b[0m\n\u001b[0m\u001b[0;32m    119\u001b[0m \u001b[1;33m\u001b[0m\u001b[0m\n\u001b[0;32m    120\u001b[0m \u001b[1;33m\u001b[0m\u001b[0m\n",
      "\u001b[1;31mKeyboardInterrupt\u001b[0m: "
     ]
    }
   ],
   "source": [
    "# Crear un diccionario que contenga el precio máximo y mínimo de cada símbolo \n",
    "max_price = dict()\n",
    "min_price = dict()\n",
    "\n",
    "# Bucle infinito\n",
    "while True:\n",
    "    \n",
    "    # Extraems las posiciones actuales\n",
    "    summary = resume()\n",
    "    \n",
    "    # Verificación: ¿Hay alguna posición abierta?\n",
    "    if summary.shape[0] >0:\n",
    "        for i in range(summary.shape[0]):\n",
    "            \n",
    "            # Extraemos la información\n",
    "            row = summary.iloc[i]\n",
    "            symbol = row[\"symbol\"]\n",
    "            \n",
    "            # Añadir la clave si no está en la lista de claves\n",
    "            if symbol not in max_price.keys():\n",
    "                max_price[symbol]=row[\"price\"]\n",
    "                \n",
    "            if symbol not in min_price.keys():\n",
    "                min_price[symbol]=row[\"price\"]\n",
    "                \n",
    "                  \n",
    "        \n",
    "\n",
    "            \"\"\" CASO 1: Cambiar dinámicamente el stop loss para una BUY ORDER \"\"\"\n",
    "            # Trailing stop loss para una orden de compra\n",
    "            if row[\"position\"] == 0:\n",
    "               \n",
    "                # Extraemos el precio actual \n",
    "                current_price = (mt5.symbol_info(symbol).ask + mt5.symbol_info(symbol).bid ) / 2\n",
    "                \n",
    "                # Calcula la distancia entre el precio actual y el precio máximo\n",
    "                from_sl_to_curent_price = current_price - row[\"sl\"]\n",
    "                from_sl_to_max_price = max_price[symbol] - row[\"sl\"]\n",
    "                \n",
    "                \n",
    "                #Si el precio actual es mayor que el precio máximo anterior --> nuevo precio máximo\n",
    "                if current_price > max_price[symbol]:\n",
    "                    max_price[symbol] = current_price\n",
    "                    \n",
    "                \n",
    "                # Hallar la diferencia entre el actual menos el máximo. \n",
    "                if from_sl_to_curent_price > from_sl_to_max_price:\n",
    "                    difference = from_sl_to_curent_price - from_sl_to_max_price\n",
    "\n",
    "                    # Elegimos el filling mode\n",
    "                    filling_type = mt5.symbol_info(symbol).filling_mode\n",
    "\n",
    "                    # Elegimos el punto\n",
    "                    point = mt5.symbol_info(symbol).point\n",
    "\n",
    "                    # Cambiamos el sl\n",
    "                    request = {\n",
    "                    \"action\": mt5.TRADE_ACTION_SLTP,\n",
    "                    \"symbol\": symbol,\n",
    "                    \"position\": row[\"ticket\"],\n",
    "                    \"volume\": row[\"volume\"],\n",
    "                    \"type\": mt5.ORDER_TYPE_BUY,\n",
    "                    \"price\": row[\"price\"],\n",
    "                    \"sl\": row[\"sl\"] + difference,\n",
    "                    \"type_filling\": filling_type,\n",
    "                    \"type_time\": mt5.ORDER_TIME_GTC,\n",
    "                    }\n",
    "                    \n",
    "                    information = mt5.order_send(request)\n",
    "                    print(information)\n",
    "                    \n",
    "            \n",
    "            \"\"\" CASO 2:  Cambiar dinámicamente el stop loss para una SELL ORDER \"\"\"\n",
    "            # Trailing stop loss para una orden de venta\n",
    "            if row[\"position\"] == 1:\n",
    "                \n",
    "               \n",
    "                # Extraemos el precio actual \n",
    "                current_price = (mt5.symbol_info(symbol).ask + mt5.symbol_info(symbol).bid ) / 2\n",
    "                \n",
    "                # Calcula la distancia entre el precio actual y el precio máximo  \n",
    "                from_sl_to_curent_price = row[\"sl\"] - current_price\n",
    "                from_sl_to_min_price = row[\"sl\"] - min_price[symbol]\n",
    "                \n",
    "                 # Si el precio actual es menor que el precio mínimo anterior --> nuevo precio máximo\n",
    "                if current_price < min_price[symbol]:\n",
    "                    min_price[symbol] = current_price\n",
    "                                \n",
    "                    \n",
    "                # Hallar la diferencia entre el actual menos el máximo. \n",
    "                if from_sl_to_curent_price > from_sl_to_min_price:\n",
    "                    difference = from_sl_to_curent_price - from_sl_to_min_price \n",
    "\n",
    "                    # Elegimos el filling mode\n",
    "                    filling_type = mt5.symbol_info(symbol).filling_mode\n",
    "\n",
    "                    # Elegimos el punto\n",
    "                    point = mt5.symbol_info(symbol).point\n",
    "\n",
    "                    # Cambiamos el sl\n",
    "                    request = {\n",
    "                    \"action\": mt5.TRADE_ACTION_SLTP,\n",
    "                    \"symbol\": symbol,\n",
    "                    \"position\": row[\"ticket\"],\n",
    "                    \"volume\": row[\"volume\"],\n",
    "                    \"type\": mt5.ORDER_TYPE_SELL,\n",
    "                    \"price\": row[\"price\"],\n",
    "                    \"sl\": row[\"sl\"] - difference,\n",
    "                    \"type_filling\": filling_type,\n",
    "                    \"type_time\": mt5.ORDER_TIME_GTC,\n",
    "                    }\n",
    "                    \n",
    "                \n",
    "                    information = mt5.order_send(request)\n",
    "                    print(information)\n",
    "    print(max_price)\n",
    "    # Evitamos el ruido\n",
    "    time.sleep(1)\n",
    "    \n",
    "    "
   ]
  },
  {
   "cell_type": "code",
   "execution_count": 18,
   "id": "cf840e54",
   "metadata": {},
   "outputs": [],
   "source": [
    "def trailing_stop_loss():\n",
    "    global max_price, min_price, summary\n",
    "    \n",
    "    # Extraer las posiciones abiertas actuales\n",
    "    summary = resume()\n",
    "    \n",
    "    # Verification: Is there any open position?\n",
    "    if summary.shape[0] >0:\n",
    "        for i in range(summary.shape[0]):\n",
    "            \n",
    "            # Extract information\n",
    "            row = summary.iloc[i]\n",
    "            symbol = row[\"symbol\"]\n",
    "            \n",
    "        \n",
    "                         \n",
    "        \n",
    "\n",
    "            \"\"\" CASE 1: Change dynamicly the stop loss for a BUY ORDER \"\"\"\n",
    "            # Trailing stop loss for a buy order\n",
    "            if row[\"position\"] == 0:\n",
    "               \n",
    "                if symbol not in max_price.keys():\n",
    "                    max_price[symbol]=row[\"price\"]\n",
    "                \n",
    "                # Extract current price \n",
    "                current_price = (mt5.symbol_info(symbol).ask + mt5.symbol_info(symbol).bid ) / 2\n",
    "                \n",
    "                #Compute distance between current price an max price\n",
    "                from_sl_to_curent_price = current_price - row[\"sl\"]\n",
    "                from_sl_to_max_price = max_price[symbol] - row[\"sl\"]\n",
    "                \n",
    "                \n",
    "                # If current price is greater than preivous max price --> new max price\n",
    "                if current_price > max_price[symbol]:\n",
    "                    max_price[symbol] = current_price\n",
    "                    \n",
    "                \n",
    "                # Find the difference between the current minus max \n",
    "                if from_sl_to_curent_price > from_sl_to_max_price:\n",
    "                    difference = from_sl_to_curent_price - from_sl_to_max_price\n",
    "\n",
    "                    # Set filling mode\n",
    "                    filling_type = mt5.symbol_info(symbol).filling_mode\n",
    "\n",
    "                    # Set the point\n",
    "                    point = mt5.symbol_info(symbol).point\n",
    "\n",
    "                    # Change the sl\n",
    "                    request = {\n",
    "                    \"action\": mt5.TRADE_ACTION_SLTP,\n",
    "                    \"symbol\": symbol,\n",
    "                    \"position\": row[\"ticket\"],\n",
    "                    \"volume\": row[\"volume\"],\n",
    "                    \"type\": mt5.ORDER_TYPE_BUY,\n",
    "                    \"price\": row[\"price\"],\n",
    "                    \"sl\": row[\"sl\"] + difference,\n",
    "                    \"type_filling\": filling_type,\n",
    "                    \"type_time\": mt5.ORDER_TIME_GTC,\n",
    "                    }\n",
    "                    \n",
    "                    information = mt5.order_send(request)\n",
    "                    print(information)\n",
    "                    \n",
    "            \n",
    "            \"\"\" CASE 2: Change dynamicly the stop loss for a SELL ORDER \"\"\"\n",
    "            # Trailing stop loss for a sell order\n",
    "            if row[\"position\"] == 1:\n",
    "                \n",
    "                if symbol not in min_price.keys():\n",
    "                    min_price[symbol]=row[\"price\"]\n",
    "                    \n",
    "                # Extract current price \n",
    "                current_price = (mt5.symbol_info(symbol).ask + mt5.symbol_info(symbol).bid ) / 2\n",
    "                \n",
    "                \n",
    "                \n",
    "                #Compute distance between current price an max price\n",
    "                from_sl_to_curent_price = row[\"sl\"] - current_price\n",
    "                from_sl_to_min_price = row[\"sl\"] - min_price[symbol]\n",
    "                \n",
    "                 # If current price is greater than preivous max price --> new max price\n",
    "                if current_price < min_price[symbol]:\n",
    "                    min_price[symbol] = current_price\n",
    "                                \n",
    "                    \n",
    "                # Find the difference between the current minus max \n",
    "                if from_sl_to_curent_price > from_sl_to_min_price:\n",
    "                    difference = from_sl_to_curent_price - from_sl_to_min_price \n",
    "\n",
    "                    # Set filling mode\n",
    "                    filling_type = 1#mt5.symbol_info(symbol).filling_mode\n",
    "\n",
    "                    # Set the point\n",
    "                    point = mt5.symbol_info(symbol).point\n",
    "\n",
    "                    # Change the sl\n",
    "                    request = {\n",
    "                    \"action\": mt5.TRADE_ACTION_SLTP,\n",
    "                    \"symbol\": symbol,\n",
    "                    \"position\": row[\"ticket\"],\n",
    "                    \"volume\": row[\"volume\"],\n",
    "                    \"type\": mt5.ORDER_TYPE_SELL,\n",
    "                    \"price\": row[\"price\"],\n",
    "                    \"sl\": row[\"sl\"] - difference,\n",
    "                    \"type_filling\": filling_type,\n",
    "                    \"type_time\": mt5.ORDER_TIME_GTC,\n",
    "                    }\n",
    "                    \n",
    "                \n",
    "                    information = mt5.order_send(request)\n",
    "                    print(information)"
   ]
  },
  {
   "cell_type": "code",
   "execution_count": 16,
   "id": "60a9df9c",
   "metadata": {},
   "outputs": [],
   "source": [
    "def verif_tsl():\n",
    "    global max_price, min_price, summary\n",
    "    \n",
    "    #print(\"MAX\", max_price)\n",
    "    \n",
    "    #print(\"MIN\", min_price)\n",
    "    \n",
    "    if len(summary)>0:\n",
    "        buy_open_positions = summary.loc[summary[\"position\"]==0][\"symbol\"]\n",
    "        sell_open_positions = summary.loc[summary[\"position\"]==1][\"symbol\"]\n",
    "    else:\n",
    "        buy_open_positions = []\n",
    "        sell_open_positions = []\n",
    "    \n",
    "    \"\"\" SI CERRAMOS UNA DE LAS POSICIONES DEBEMOS BORRAR EL PRECIO EN LOS DICCIONARIOS DE PRECIOS MÁXIMO Y MÍNIMO\"\"\"\n",
    "    if len(max_price) != len(buy_open_positions) and len(buy_open_positions) >0:\n",
    "        symbol_to_delete = []\n",
    "        \n",
    "        for symbol in max_price.keys():\n",
    "\n",
    "            if symbol not in list(buy_open_positions):\n",
    "                symbol_to_delete.append(symbol)\n",
    "        \n",
    "        for symbol in symbol_to_delete:\n",
    "            del max_price[symbol]\n",
    "            \n",
    "    if len(min_price) != len(sell_open_positions) and len(sell_open_positions) >0:\n",
    "        symbol_to_delete = []\n",
    "        \n",
    "        for symbol in min_price.keys():\n",
    "\n",
    "            if symbol not in list(sell_open_positions):\n",
    "                symbol_to_delete.append(symbol)\n",
    "        \n",
    "        for symbol in symbol_to_delete:\n",
    "            del min_price[symbol]\n",
    "    \n",
    "    if len(buy_open_positions) == 0:\n",
    "        max_price={}\n",
    "        \n",
    "    if len(sell_open_positions) == 0:\n",
    "        min_price={}\n",
    "    "
   ]
  },
  {
   "cell_type": "code",
   "execution_count": 21,
   "id": "30b73fcc",
   "metadata": {},
   "outputs": [
    {
     "name": "stdout",
     "output_type": "stream",
     "text": [
      "OrderSendResult(retcode=10013, deal=0, order=0, volume=0.0, price=0.0, bid=0.0, ask=0.0, comment='Invalid request', request_id=0, retcode_external=0, request=TradeRequest(action=6, magic=0, order=0, symbol='USDJPY', volume=0.1, price=131.99, stoplimit=0.0, sl=0.0024999999999977263, tp=0.0, deviation=0, type=0, type_filling=3, type_time=0, expiration=0, comment='', position=231636149, position_by=0))\n",
      "OrderSendResult(retcode=10013, deal=0, order=0, volume=0.0, price=0.0, bid=0.0, ask=0.0, comment='Invalid request', request_id=0, retcode_external=0, request=TradeRequest(action=6, magic=0, order=0, symbol='USDJPY', volume=0.1, price=131.99, stoplimit=0.0, sl=0.0020000000000095497, tp=0.0, deviation=0, type=0, type_filling=3, type_time=0, expiration=0, comment='', position=231636149, position_by=0))\n",
      "OrderSendResult(retcode=10013, deal=0, order=0, volume=0.0, price=0.0, bid=0.0, ask=0.0, comment='Invalid request', request_id=0, retcode_external=0, request=TradeRequest(action=6, magic=0, order=0, symbol='USDJPY', volume=0.1, price=131.99, stoplimit=0.0, sl=0.0009999999999763531, tp=0.0, deviation=0, type=0, type_filling=3, type_time=0, expiration=0, comment='', position=231636149, position_by=0))\n",
      "OrderSendResult(retcode=10013, deal=0, order=0, volume=0.0, price=0.0, bid=0.0, ask=0.0, comment='Invalid request', request_id=0, retcode_external=0, request=TradeRequest(action=6, magic=0, order=0, symbol='USDJPY', volume=0.1, price=131.99, stoplimit=0.0, sl=0.0004999999999881766, tp=0.0, deviation=0, type=0, type_filling=3, type_time=0, expiration=0, comment='', position=231636149, position_by=0))\n",
      "OrderSendResult(retcode=10013, deal=0, order=0, volume=0.0, price=0.0, bid=0.0, ask=0.0, comment='Invalid request', request_id=0, retcode_external=0, request=TradeRequest(action=6, magic=0, order=0, symbol='USDJPY', volume=0.1, price=131.99, stoplimit=0.0, sl=0.0005000000000165983, tp=0.0, deviation=0, type=0, type_filling=3, type_time=0, expiration=0, comment='', position=231636149, position_by=0))\n",
      "OrderSendResult(retcode=10013, deal=0, order=0, volume=0.0, price=0.0, bid=0.0, ask=0.0, comment='Invalid request', request_id=0, retcode_external=0, request=TradeRequest(action=6, magic=0, order=0, symbol='USDJPY', volume=0.1, price=131.99, stoplimit=0.0, sl=0.006000000000000227, tp=0.0, deviation=0, type=0, type_filling=3, type_time=0, expiration=0, comment='', position=231636149, position_by=0))\n",
      "OrderSendResult(retcode=10013, deal=0, order=0, volume=0.0, price=0.0, bid=0.0, ask=0.0, comment='Invalid request', request_id=0, retcode_external=0, request=TradeRequest(action=6, magic=0, order=0, symbol='USDJPY', volume=0.1, price=131.99, stoplimit=0.0, sl=0.007499999999993179, tp=0.0, deviation=0, type=0, type_filling=3, type_time=0, expiration=0, comment='', position=231636149, position_by=0))\n",
      "OrderSendResult(retcode=10013, deal=0, order=0, volume=0.0, price=0.0, bid=0.0, ask=0.0, comment='Invalid request', request_id=0, retcode_external=0, request=TradeRequest(action=6, magic=0, order=0, symbol='USDJPY', volume=0.1, price=131.99, stoplimit=0.0, sl=0.003500000000002501, tp=0.0, deviation=0, type=0, type_filling=3, type_time=0, expiration=0, comment='', position=231636149, position_by=0))\n",
      "OrderSendResult(retcode=10013, deal=0, order=0, volume=0.0, price=0.0, bid=0.0, ask=0.0, comment='Invalid request', request_id=0, retcode_external=0, request=TradeRequest(action=6, magic=0, order=0, symbol='USDJPY', volume=0.1, price=131.99, stoplimit=0.0, sl=0.006000000000000227, tp=0.0, deviation=0, type=0, type_filling=3, type_time=0, expiration=0, comment='', position=231636149, position_by=0))\n",
      "OrderSendResult(retcode=10013, deal=0, order=0, volume=0.0, price=0.0, bid=0.0, ask=0.0, comment='Invalid request', request_id=0, retcode_external=0, request=TradeRequest(action=6, magic=0, order=0, symbol='USDJPY', volume=0.1, price=131.99, stoplimit=0.0, sl=0.0004999999999881766, tp=0.0, deviation=0, type=0, type_filling=3, type_time=0, expiration=0, comment='', position=231636149, position_by=0))\n",
      "OrderSendResult(retcode=10013, deal=0, order=0, volume=0.0, price=0.0, bid=0.0, ask=0.0, comment='Invalid request', request_id=0, retcode_external=0, request=TradeRequest(action=6, magic=0, order=0, symbol='USDJPY', volume=0.1, price=131.99, stoplimit=0.0, sl=0.0010000000000331966, tp=0.0, deviation=0, type=0, type_filling=3, type_time=0, expiration=0, comment='', position=231636149, position_by=0))\n",
      "OrderSendResult(retcode=10013, deal=0, order=0, volume=0.0, price=0.0, bid=0.0, ask=0.0, comment='Invalid request', request_id=0, retcode_external=0, request=TradeRequest(action=6, magic=0, order=0, symbol='USDJPY', volume=0.1, price=131.99, stoplimit=0.0, sl=0.0034999999999740794, tp=0.0, deviation=0, type=0, type_filling=3, type_time=0, expiration=0, comment='', position=231636149, position_by=0))\n",
      "OrderSendResult(retcode=10013, deal=0, order=0, volume=0.0, price=0.0, bid=0.0, ask=0.0, comment='Invalid request', request_id=0, retcode_external=0, request=TradeRequest(action=6, magic=0, order=0, symbol='USDJPY', volume=0.1, price=131.99, stoplimit=0.0, sl=0.0015000000000213731, tp=0.0, deviation=0, type=0, type_filling=3, type_time=0, expiration=0, comment='', position=231636149, position_by=0))\n",
      "OrderSendResult(retcode=10013, deal=0, order=0, volume=0.0, price=0.0, bid=0.0, ask=0.0, comment='Invalid request', request_id=0, retcode_external=0, request=TradeRequest(action=6, magic=0, order=0, symbol='USDJPY', volume=0.1, price=131.99, stoplimit=0.0, sl=0.0009999999999763531, tp=0.0, deviation=0, type=0, type_filling=3, type_time=0, expiration=0, comment='', position=231636149, position_by=0))\n",
      "OrderSendResult(retcode=10016, deal=0, order=0, volume=0.0, price=0.0, bid=0.0, ask=0.0, comment='Invalid stops', request_id=0, retcode_external=0, request=TradeRequest(action=6, magic=0, order=0, symbol='USDCHF', volume=0.1, price=0.9178, stoplimit=0.0, sl=-4.999999999921734e-06, tp=0.0, deviation=0, type=1, type_filling=1, type_time=0, expiration=0, comment='', position=231636147, position_by=0))\n",
      "OrderSendResult(retcode=10016, deal=0, order=0, volume=0.0, price=0.0, bid=0.0, ask=0.0, comment='Invalid stops', request_id=0, retcode_external=0, request=TradeRequest(action=6, magic=0, order=0, symbol='USDCHF', volume=0.1, price=0.9178, stoplimit=0.0, sl=-1.4999999999987246e-05, tp=0.0, deviation=0, type=1, type_filling=1, type_time=0, expiration=0, comment='', position=231636147, position_by=0))\n"
     ]
    },
    {
     "ename": "KeyboardInterrupt",
     "evalue": "",
     "output_type": "error",
     "traceback": [
      "\u001b[1;31m---------------------------------------------------------------------------\u001b[0m",
      "\u001b[1;31mKeyboardInterrupt\u001b[0m                         Traceback (most recent call last)",
      "\u001b[1;32m~\\AppData\\Local\\Temp\\ipykernel_12124\\3985742472.py\u001b[0m in \u001b[0;36m<module>\u001b[1;34m\u001b[0m\n\u001b[0;32m     11\u001b[0m \u001b[1;33m\u001b[0m\u001b[0m\n\u001b[0;32m     12\u001b[0m \u001b[1;33m\u001b[0m\u001b[0m\n\u001b[1;32m---> 13\u001b[1;33m     \u001b[0mtime\u001b[0m\u001b[1;33m.\u001b[0m\u001b[0msleep\u001b[0m\u001b[1;33m(\u001b[0m\u001b[1;36m1\u001b[0m\u001b[1;33m)\u001b[0m\u001b[1;33m\u001b[0m\u001b[1;33m\u001b[0m\u001b[0m\n\u001b[0m",
      "\u001b[1;31mKeyboardInterrupt\u001b[0m: "
     ]
    }
   ],
   "source": [
    "# Create a dictionnary to contain the maxiumum price of each symbol \n",
    "max_price = dict()\n",
    "min_price = dict()\n",
    "\n",
    "# Infinite loop\n",
    "while True:\n",
    "    trailing_stop_loss()\n",
    "\n",
    "    \n",
    "    verif_tsl()\n",
    "    \n",
    "    \n",
    "    time.sleep(1)"
   ]
  },
  {
   "cell_type": "markdown",
   "id": "bf95dbe3",
   "metadata": {},
   "source": [
    "### Portfolio o Basket TP/SL"
   ]
  },
  {
   "cell_type": "code",
   "execution_count": 22,
   "id": "5eb1f008",
   "metadata": {},
   "outputs": [],
   "source": [
    "def verification_basket_sl(sl):\n",
    "    \"\"\"Necesitamos poner el signo de sl:\n",
    "    Stop loss -1%: sl=-1\n",
    "    \"\"\"\n",
    "    list_current_position = list(mt5.positions_get())\n",
    "    sum_price = sum_profit = 0\n",
    "    for position in list_current_position:\n",
    "        symbol = position.symbol\n",
    "        trade_contract_size = mt5.symbol_info(symbol).trade_contract_size\n",
    "        sum_price += (position.volume * position.price_open * trade_contract_size)\n",
    "        sum_profit += position.profit\n",
    "    profit_in_pct = 100 * sum_profit / sum_price\n",
    "    condition = profit_in_pct < sl\n",
    "    print(profit_in_pct)\n",
    "    return condition"
   ]
  },
  {
   "cell_type": "code",
   "execution_count": 25,
   "id": "f2b28caf",
   "metadata": {},
   "outputs": [
    {
     "name": "stdout",
     "output_type": "stream",
     "text": [
      "-0.0012500231143327354\n"
     ]
    },
    {
     "data": {
      "text/plain": [
       "False"
      ]
     },
     "execution_count": 25,
     "metadata": {},
     "output_type": "execute_result"
    }
   ],
   "source": [
    "verification_basket_sl(-1)"
   ]
  },
  {
   "cell_type": "code",
   "execution_count": 26,
   "id": "e1471bc2",
   "metadata": {},
   "outputs": [],
   "source": [
    "def verification_basket_tp(tp):\n",
    "    list_current_position = list(mt5.positions_get())\n",
    "    sum_price = sum_profit = 0\n",
    "    for position in list_current_position:\n",
    "        symbol = position.symbol\n",
    "        trade_contract_size = mt5.symbol_info(symbol).trade_contract_size\n",
    "        sum_price += (position.volume * position.price_open * trade_contract_size)\n",
    "        sum_profit += position.profit\n",
    "    profit_in_pct = 100 * sum_profit / sum_price\n",
    "    condition = profit_in_pct > tp\n",
    "    print(profit_in_pct)\n",
    "    return condition"
   ]
  },
  {
   "cell_type": "code",
   "execution_count": 29,
   "id": "41e64621",
   "metadata": {},
   "outputs": [
    {
     "name": "stdout",
     "output_type": "stream",
     "text": [
      "-0.0016346456110504998\n"
     ]
    },
    {
     "data": {
      "text/plain": [
       "False"
      ]
     },
     "execution_count": 29,
     "metadata": {},
     "output_type": "execute_result"
    }
   ],
   "source": [
    "verification_basket_tp(1)"
   ]
  }
 ],
 "metadata": {
  "kernelspec": {
   "display_name": "Python 3 (ipykernel)",
   "language": "python",
   "name": "python3"
  },
  "language_info": {
   "codemirror_mode": {
    "name": "ipython",
    "version": 3
   },
   "file_extension": ".py",
   "mimetype": "text/x-python",
   "name": "python",
   "nbconvert_exporter": "python",
   "pygments_lexer": "ipython3",
   "version": "3.9.13"
  }
 },
 "nbformat": 4,
 "nbformat_minor": 5
}
