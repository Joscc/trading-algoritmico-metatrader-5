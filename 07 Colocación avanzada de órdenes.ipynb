{
 "cells": [
  {
   "cell_type": "markdown",
   "id": "4d0749cd",
   "metadata": {},
   "source": [
    "# Capítulo 07: Colocación avanzada de órdenes\n",
    "\n",
    "💰 Únete a la comunidad de [Discord](https://discord.gg/z3dx5XpkX4)\n",
    "\n",
    "📚 Puedes leer nuestro libro en [Amazon](https://www.amazon.es/Python-para-finanzas-trading-algor%C3%ADtmico-ebook/dp/B0BT4ZS9Q3)\n",
    "\n",
    "🖥️ El canal de [YouTube de Quantreo's](https://www.youtube.com/channel/UCp7jckfiEglNf_Gj62VR0pw) (en inglés) y el de [Frogames](https://www.youtube.com/channel/UCMUxXNYrVCv6-bQakhomvBg) en Español"
   ]
  },
  {
   "cell_type": "code",
   "execution_count": 1,
   "id": "4924574d",
   "metadata": {},
   "outputs": [
    {
     "name": "stderr",
     "output_type": "stream",
     "text": [
      "C:\\Users\\juangabriel\\anaconda3\\lib\\site-packages\\numpy\\_distributor_init.py:30: UserWarning: loaded more than 1 DLL from .libs:\n",
      "C:\\Users\\juangabriel\\anaconda3\\lib\\site-packages\\numpy\\.libs\\libopenblas.GK7GX5KEQ4F6UYO3P26ULGBQYHGQO7J4.gfortran-win_amd64.dll\n",
      "C:\\Users\\juangabriel\\anaconda3\\lib\\site-packages\\numpy\\.libs\\libopenblas64__v0.3.21-gcc_10_3_0.dll\n",
      "  warnings.warn(\"loaded more than 1 DLL from .libs:\"\n"
     ]
    }
   ],
   "source": [
    "# Importar librerías\n",
    "import MetaTrader5 as mt5"
   ]
  },
  {
   "cell_type": "code",
   "execution_count": 2,
   "id": "14a0ef5f",
   "metadata": {},
   "outputs": [
    {
     "data": {
      "text/plain": [
       "True"
      ]
     },
     "execution_count": 2,
     "metadata": {},
     "output_type": "execute_result"
    }
   ],
   "source": [
    "# Initialize the bound\n",
    "mt5.initialize()"
   ]
  },
  {
   "cell_type": "markdown",
   "id": "c47af8a0",
   "metadata": {},
   "source": [
    "### Colocar una orden pendiente (Buy/sell limit/stop)\n",
    "https://www.metatrader5.com/en/mobile-trading/iphone/help/trade/general_concept/order_types"
   ]
  },
  {
   "cell_type": "code",
   "execution_count": 3,
   "id": "072cc670",
   "metadata": {},
   "outputs": [],
   "source": [
    "# Elegimos el símbolo\n",
    "symbol = \"EURUSD\"\n",
    "\n",
    "# Elegimos el filling mode\n",
    "filling_type = 1 #mt5.symbol_info(symbol).filling_mode\n",
    "\n",
    "# Obtenemos los puntos del símblo\n",
    "point = mt5.symbol_info(symbol).point"
   ]
  },
  {
   "cell_type": "code",
   "execution_count": 16,
   "id": "0e1f81bb",
   "metadata": {},
   "outputs": [
    {
     "data": {
      "text/plain": [
       "OrderSendResult(retcode=10009, deal=0, order=231596239, volume=1.0, price=0.0, bid=0.0, ask=0.0, comment='Request executed', request_id=34, retcode_external=0, request=TradeRequest(action=5, magic=0, order=0, symbol='EURUSD', volume=1.0, price=1.06992, stoplimit=0.0, sl=0.0, tp=0.0, deviation=0, type=3, type_filling=1, type_time=0, expiration=0, comment='', position=0, position_by=0))"
      ]
     },
     "execution_count": 16,
     "metadata": {},
     "output_type": "execute_result"
    }
   ],
   "source": [
    "# SELL LIMIT\n",
    "request = {\n",
    "    \"action\": mt5.TRADE_ACTION_PENDING,\n",
    "    \"symbol\": symbol,\n",
    "    \"volume\": 1.0,\n",
    "    \"type\": mt5.ORDER_TYPE_SELL_LIMIT,\n",
    "    \"price\": mt5.symbol_info_tick(symbol).bid+100*point,\n",
    "    \"type_filling\": filling_type,\n",
    "    \"type_time\": mt5.ORDER_TIME_GTC,\n",
    "}\n",
    "\n",
    "info_order = mt5.order_send(request)\n",
    "info_order"
   ]
  },
  {
   "cell_type": "code",
   "execution_count": 19,
   "id": "ff1d42d4",
   "metadata": {},
   "outputs": [
    {
     "data": {
      "text/plain": [
       "OrderSendResult(retcode=10009, deal=0, order=231598598, volume=1.0, price=0.0, bid=0.0, ask=0.0, comment='Request executed', request_id=37, retcode_external=0, request=TradeRequest(action=1, magic=0, order=0, symbol='EURUSD', volume=1.0, price=1.06885, stoplimit=0.0, sl=0.0, tp=0.0, deviation=0, type=0, type_filling=1, type_time=0, expiration=0, comment='', position=0, position_by=0))"
      ]
     },
     "execution_count": 19,
     "metadata": {},
     "output_type": "execute_result"
    }
   ],
   "source": [
    "# BUY LIMIT\n",
    "request = {\n",
    "    \"action\": mt5.TRADE_ACTION_DEAL,\n",
    "    \"symbol\": symbol,\n",
    "    \"volume\": 1.0,\n",
    "    \"type\": mt5.ORDER_TYPE_BUY,\n",
    "    \"price\": mt5.symbol_info_tick(symbol).bid-100*point,\n",
    "    \"type_filling\": filling_type,\n",
    "    \"type_time\": mt5.ORDER_TIME_GTC,\n",
    "}\n",
    "\n",
    "info_order = mt5.order_send(request)\n",
    "info_order\n"
   ]
  },
  {
   "cell_type": "code",
   "execution_count": 6,
   "id": "e3c57b5b",
   "metadata": {
    "scrolled": true
   },
   "outputs": [
    {
     "data": {
      "text/plain": [
       "OrderSendResult(retcode=10009, deal=0, order=231578778, volume=0.0, price=0.0, bid=0.0, ask=0.0, comment='Request executed', request_id=23, retcode_external=0, request=TradeRequest(action=8, magic=0, order=231578778, symbol='', volume=0.0, price=0.0, stoplimit=0.0, sl=0.0, tp=0.0, deviation=0, type=0, type_filling=0, type_time=0, expiration=0, comment='', position=0, position_by=0))"
      ]
     },
     "execution_count": 6,
     "metadata": {},
     "output_type": "execute_result"
    }
   ],
   "source": [
    "# ELIMINAR UNA ORDEN PENDIENTE\n",
    "request = {\n",
    "     \"action\" : mt5.TRADE_ACTION_REMOVE ,\n",
    "     \"order\" : info_order.order ,\n",
    "}\n",
    "\n",
    "mt5.order_send(request)"
   ]
  },
  {
   "cell_type": "markdown",
   "id": "fa5dcb7c",
   "metadata": {},
   "source": [
    "### Modificar el TP / SL"
   ]
  },
  {
   "cell_type": "code",
   "execution_count": 11,
   "id": "5abb7341",
   "metadata": {},
   "outputs": [
    {
     "data": {
      "text/plain": [
       "OrderSendResult(retcode=10009, deal=0, order=231579508, volume=1.0, price=0.0, bid=0.0, ask=0.0, comment='Request executed', request_id=27, retcode_external=0, request=TradeRequest(action=1, magic=0, order=0, symbol='EURUSD', volume=1.0, price=1.06863, stoplimit=0.0, sl=1.06763, tp=1.0696299999999999, deviation=10, type=0, type_filling=1, type_time=0, expiration=0, comment='', position=0, position_by=0))"
      ]
     },
     "execution_count": 11,
     "metadata": {},
     "output_type": "execute_result"
    }
   ],
   "source": [
    "# ABRIR POSICIÓN COMPRA\n",
    "deviation = 10\n",
    "\n",
    "request = {\n",
    "    \"action\": mt5.TRADE_ACTION_DEAL,\n",
    "    \"symbol\": symbol,\n",
    "    \"volume\": 1.0,\n",
    "    \"type\": mt5.ORDER_TYPE_BUY,\n",
    "    \"price\": mt5.symbol_info_tick(symbol).ask,\n",
    "    \"deviation\": deviation,\n",
    "    \"sl\": mt5.symbol_info_tick(symbol).ask-100*point,\n",
    "    \"tp\": mt5.symbol_info_tick(symbol).ask+100*point,\n",
    "    \"type_filling\": filling_type,\n",
    "    \"type_time\": mt5.ORDER_TIME_GTC,\n",
    "}\n",
    "\n",
    "info_order = mt5.order_send(request)\n",
    "info_order\n"
   ]
  },
  {
   "cell_type": "code",
   "execution_count": 12,
   "id": "155cf05f",
   "metadata": {},
   "outputs": [
    {
     "data": {
      "text/plain": [
       "OrderSendResult(retcode=10009, deal=0, order=0, volume=0.0, price=0.0, bid=0.0, ask=0.0, comment='Request executed', request_id=28, retcode_external=0, request=TradeRequest(action=6, magic=0, order=0, symbol='EURUSD', volume=1.0, price=0.0, stoplimit=0.0, sl=1.05869, tp=1.07869, deviation=10, type=0, type_filling=1, type_time=0, expiration=0, comment='', position=231579508, position_by=0))"
      ]
     },
     "execution_count": 12,
     "metadata": {},
     "output_type": "execute_result"
    }
   ],
   "source": [
    "# CAMBIAR SL/TP\n",
    "request = {\n",
    "    \"action\": mt5.TRADE_ACTION_SLTP,\n",
    "    \"symbol\": symbol,\n",
    "    \"position\": info_order.order,\n",
    "    \"volume\": 1.0,\n",
    "    \"type\": mt5.ORDER_TYPE_BUY,\n",
    "    \"price\": info_order.price,\n",
    "    \"deviation\": 10,\n",
    "    \"sl\": mt5.symbol_info_tick(symbol).ask-1000*point,\n",
    "    \"tp\": mt5.symbol_info_tick(symbol).ask+1000*point,\n",
    "    \"type_filling\": filling_type,\n",
    "    \"type_time\": mt5.ORDER_TIME_GTC,\n",
    "}\n",
    "\n",
    "mt5.order_send(request)\n",
    "\n"
   ]
  },
  {
   "cell_type": "code",
   "execution_count": 14,
   "id": "2dd9fc05",
   "metadata": {},
   "outputs": [
    {
     "data": {
      "text/plain": [
       "OrderSendResult(retcode=10009, deal=0, order=231579754, volume=1.0, price=0.0, bid=0.0, ask=0.0, comment='Request executed', request_id=31, retcode_external=0, request=TradeRequest(action=1, magic=0, order=0, symbol='EURUSD', volume=1.0, price=1.06854, stoplimit=0.0, sl=1.06954, tp=1.0675400000000002, deviation=10, type=1, type_filling=1, type_time=0, expiration=0, comment='', position=0, position_by=0))"
      ]
     },
     "execution_count": 14,
     "metadata": {},
     "output_type": "execute_result"
    }
   ],
   "source": [
    "# ABRIR POSICIÓN VENTA\n",
    "deviation = 10\n",
    "\n",
    "request = {\n",
    "    \"action\": mt5.TRADE_ACTION_DEAL,\n",
    "    \"symbol\": symbol,\n",
    "    \"volume\": 1.0,\n",
    "    \"type\": mt5.ORDER_TYPE_SELL,\n",
    "    \"price\": mt5.symbol_info_tick(symbol).bid,\n",
    "    \"deviation\": deviation,\n",
    "    \"sl\": mt5.symbol_info_tick(symbol).bid+100*point,\n",
    "    \"tp\": mt5.symbol_info_tick(symbol).bid-100*point,\n",
    "    \"type_filling\": filling_type,\n",
    "    \"type_time\": mt5.ORDER_TIME_GTC,\n",
    "}\n",
    "\n",
    "info_order = mt5.order_send(request)\n",
    "info_order\n"
   ]
  },
  {
   "cell_type": "code",
   "execution_count": 15,
   "id": "f9803193",
   "metadata": {},
   "outputs": [
    {
     "data": {
      "text/plain": [
       "OrderSendResult(retcode=10009, deal=0, order=0, volume=0.0, price=0.0, bid=0.0, ask=0.0, comment='Request executed', request_id=32, retcode_external=0, request=TradeRequest(action=6, magic=0, order=0, symbol='EURUSD', volume=1.0, price=0.0, stoplimit=0.0, sl=1.07862, tp=1.05862, deviation=10, type=1, type_filling=1, type_time=0, expiration=0, comment='', position=231579754, position_by=0))"
      ]
     },
     "execution_count": 15,
     "metadata": {},
     "output_type": "execute_result"
    }
   ],
   "source": [
    "# CAMBIAR SL/TP\n",
    "request = {\n",
    "    \"action\": mt5.TRADE_ACTION_SLTP,\n",
    "    \"symbol\": symbol,\n",
    "    \"position\": info_order.order,\n",
    "    \"volume\": 1.0,\n",
    "    \"type\": mt5.ORDER_TYPE_SELL,\n",
    "    \"price\": info_order.price,\n",
    "    \"deviation\": 10,\n",
    "    \"sl\": mt5.symbol_info_tick(symbol).bid+1000*point,\n",
    "    \"tp\": mt5.symbol_info_tick(symbol).bid-1000*point,\n",
    "    \"type_filling\": filling_type,\n",
    "    \"type_time\": mt5.ORDER_TIME_GTC,\n",
    "}\n",
    "\n",
    "mt5.order_send(request)\n",
    "\n"
   ]
  }
 ],
 "metadata": {
  "kernelspec": {
   "display_name": "Python 3 (ipykernel)",
   "language": "python",
   "name": "python3"
  },
  "language_info": {
   "codemirror_mode": {
    "name": "ipython",
    "version": 3
   },
   "file_extension": ".py",
   "mimetype": "text/x-python",
   "name": "python",
   "nbconvert_exporter": "python",
   "pygments_lexer": "ipython3",
   "version": "3.9.13"
  }
 },
 "nbformat": 4,
 "nbformat_minor": 5
}
