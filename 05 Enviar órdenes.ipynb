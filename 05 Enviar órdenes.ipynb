{
 "cells": [
  {
   "cell_type": "markdown",
   "id": "e81415fe",
   "metadata": {},
   "source": [
    "# Capítulo 05: Enviar órdenes\n",
    "\n",
    "💰 Únete a la comunidad de [Discord](https://discord.gg/z3dx5XpkX4)\n",
    "\n",
    "📚 Puedes leer nuestro libro en [Amazon](https://www.amazon.es/Python-para-finanzas-trading-algor%C3%ADtmico-ebook/dp/B0BT4ZS9Q3)\n",
    "\n",
    "🖥️ El canal de [YouTube de Quantreo's](https://www.youtube.com/channel/UCp7jckfiEglNf_Gj62VR0pw) (en inglés) y el de [Frogames](https://www.youtube.com/channel/UCMUxXNYrVCv6-bQakhomvBg) en Español\n"
   ]
  },
  {
   "cell_type": "code",
   "execution_count": 2,
   "id": "3b703815",
   "metadata": {},
   "outputs": [
    {
     "name": "stderr",
     "output_type": "stream",
     "text": [
      "C:\\Users\\juangabriel\\anaconda3\\lib\\site-packages\\numpy\\_distributor_init.py:30: UserWarning: loaded more than 1 DLL from .libs:\n",
      "C:\\Users\\juangabriel\\anaconda3\\lib\\site-packages\\numpy\\.libs\\libopenblas.GK7GX5KEQ4F6UYO3P26ULGBQYHGQO7J4.gfortran-win_amd64.dll\n",
      "C:\\Users\\juangabriel\\anaconda3\\lib\\site-packages\\numpy\\.libs\\libopenblas64__v0.3.21-gcc_10_3_0.dll\n",
      "  warnings.warn(\"loaded more than 1 DLL from .libs:\"\n"
     ]
    }
   ],
   "source": [
    "# Importar las librerías\n",
    "import MetaTrader5 as mt5\n",
    "from datetime import datetime"
   ]
  },
  {
   "cell_type": "code",
   "execution_count": 41,
   "id": "21576678",
   "metadata": {},
   "outputs": [
    {
     "data": {
      "text/plain": [
       "True"
      ]
     },
     "execution_count": 41,
     "metadata": {},
     "output_type": "execute_result"
    }
   ],
   "source": [
    "# Crear la conexión entre MT5 y Python\n",
    "mt5.initialize()"
   ]
  },
  {
   "cell_type": "markdown",
   "id": "54b5fa01",
   "metadata": {},
   "source": [
    "### Enviar una orden de compra\n",
    "https://www.mql5.com/es/docs/integration/python_metatrader5/mt5ordercheck_py"
   ]
  },
  {
   "cell_type": "code",
   "execution_count": 82,
   "id": "8d9c146d",
   "metadata": {},
   "outputs": [
    {
     "data": {
      "text/plain": [
       "OrderCheckResult(retcode=0, balance=100000.0, equity=100000.0, profit=0.0, margin=33.33, margin_free=99966.67, margin_level=300030.0030003, comment='Done', request=TradeRequest(action=1, magic=0, order=0, symbol='EURUSD', volume=0.1, price=1.06881, stoplimit=0.0, sl=0.0, tp=0.0, deviation=10, type=0, type_filling=1, type_time=0, expiration=0, comment='', position=0, position_by=0))"
      ]
     },
     "execution_count": 82,
     "metadata": {},
     "output_type": "execute_result"
    }
   ],
   "source": [
    "# Abrir una orden de cmpra\n",
    "\n",
    "# Valores iniciales\n",
    "symbol = \"EURUSD\"\n",
    "lot = 0.1\n",
    "\n",
    "# Elegir la desviación\n",
    "deviation = 10\n",
    "\n",
    "# Indicar el modo de relleno del símbolo\n",
    "filling_type = mt5.symbol_info(symbol).filling_mode\n",
    "\n",
    "# Crear la petición en un diccionario\n",
    "request = {\n",
    "    \"action\": mt5.TRADE_ACTION_DEAL,\n",
    "    \"symbol\": symbol,\n",
    "    \"volume\": lot,\n",
    "    \"type\": mt5.ORDER_TYPE_BUY,\n",
    "    \"price\": mt5.symbol_info_tick(symbol).ask,\n",
    "    \"deviation\": deviation,\n",
    "    \"type_filling\": 1, #filling_type,\n",
    "    \"type_time\": mt5.ORDER_TIME_GTC\n",
    "}\n",
    "\n",
    "\n",
    "mt5.order_check(request)"
   ]
  },
  {
   "cell_type": "code",
   "execution_count": 81,
   "id": "6cdb4ecd",
   "metadata": {},
   "outputs": [
    {
     "data": {
      "text/plain": [
       "0.1"
      ]
     },
     "execution_count": 81,
     "metadata": {},
     "output_type": "execute_result"
    }
   ],
   "source": [
    "mt5.symbol_info(symbol).volume_min"
   ]
  },
  {
   "cell_type": "code",
   "execution_count": 74,
   "id": "75484b21",
   "metadata": {},
   "outputs": [
    {
     "data": {
      "text/plain": [
       "(1, 'Success')"
      ]
     },
     "execution_count": 74,
     "metadata": {},
     "output_type": "execute_result"
    }
   ],
   "source": [
    "mt5.last_error()"
   ]
  },
  {
   "cell_type": "code",
   "execution_count": 94,
   "id": "bf3df3eb",
   "metadata": {},
   "outputs": [
    {
     "data": {
      "text/plain": [
       "OrderSendResult(retcode=10009, deal=0, order=231536779, volume=0.1, price=0.0, bid=0.0, ask=0.0, comment='Request executed', request_id=9, retcode_external=0, request=TradeRequest(action=1, magic=0, order=0, symbol='EURUSD', volume=0.1, price=1.06917, stoplimit=0.0, sl=0.0, tp=0.0, deviation=10, type=0, type_filling=1, type_time=0, expiration=0, comment='', position=0, position_by=0))"
      ]
     },
     "execution_count": 94,
     "metadata": {},
     "output_type": "execute_result"
    }
   ],
   "source": [
    "request = {\n",
    "    \"action\": mt5.TRADE_ACTION_DEAL,\n",
    "    \"symbol\": symbol,\n",
    "    \"volume\": lot,\n",
    "    \"type\": mt5.ORDER_TYPE_BUY,\n",
    "    \"price\": mt5.symbol_info_tick(symbol).ask,\n",
    "    \"deviation\": deviation,\n",
    "    \"type_filling\": 1, #filling_type,\n",
    "    \"type_time\": mt5.ORDER_TIME_GTC\n",
    "}\n",
    "\n",
    "mt5.order_send(request)"
   ]
  },
  {
   "cell_type": "markdown",
   "id": "8b564ed8",
   "metadata": {},
   "source": [
    "### Colocar una orden de venta"
   ]
  },
  {
   "cell_type": "code",
   "execution_count": 99,
   "id": "0ca111bc",
   "metadata": {},
   "outputs": [
    {
     "data": {
      "text/plain": [
       "OrderSendResult(retcode=10009, deal=0, order=231537298, volume=0.1, price=0.0, bid=0.0, ask=0.0, comment='Request executed', request_id=14, retcode_external=0, request=TradeRequest(action=1, magic=0, order=0, symbol='EURUSD', volume=0.1, price=1.06951, stoplimit=0.0, sl=0.0, tp=0.0, deviation=10, type=1, type_filling=1, type_time=0, expiration=0, comment='', position=0, position_by=0))"
      ]
     },
     "execution_count": 99,
     "metadata": {},
     "output_type": "execute_result"
    }
   ],
   "source": [
    "request = {\n",
    "    \"action\": mt5.TRADE_ACTION_DEAL,\n",
    "    \"symbol\": symbol,\n",
    "    \"volume\": lot,\n",
    "    \"type\": mt5.ORDER_TYPE_SELL,\n",
    "    \"price\": mt5.symbol_info_tick(symbol).bid,\n",
    "    \"deviation\": deviation,\n",
    "    \"type_filling\": 1, #filling_type,\n",
    "    \"type_time\": mt5.ORDER_TIME_GTC\n",
    "}\n",
    "\n",
    "mt5.order_send(request)"
   ]
  },
  {
   "cell_type": "code",
   "execution_count": 89,
   "id": "720fa695",
   "metadata": {},
   "outputs": [
    {
     "data": {
      "text/plain": [
       "SymbolInfo(custom=False, chart_mode=0, select=True, visible=True, session_deals=0, session_buy_orders=0, session_sell_orders=0, volume=0, volumehigh=0, volumelow=0, time=1676040625, digits=5, spread=6, spread_float=True, ticks_bookdepth=32, trade_calc_mode=5, trade_mode=4, start_time=0, expiration_time=0, trade_stops_level=1, trade_freeze_level=1, trade_exemode=2, swap_mode=1, swap_rollover3days=3, margin_hedged_use_leg=False, expiration_mode=15, filling_mode=3, order_mode=127, order_gtc_mode=0, option_mode=0, option_right=0, bid=1.07033, bidhigh=1.07525, bidlow=1.06811, ask=1.07039, askhigh=1.0753, asklow=1.06816, last=0.0, lasthigh=0.0, lastlow=0.0, volume_real=0.0, volumehigh_real=0.0, volumelow_real=0.0, option_strike=0.0, point=1e-05, trade_tick_value=0.09342389222619794, trade_tick_value_profit=0.09342389222619794, trade_tick_value_loss=0.09342912933394375, trade_tick_size=1e-05, trade_contract_size=10000.0, trade_accrued_interest=0.0, trade_face_value=0.0, trade_liquidity_rate=0.0, volume_min=0.1, volume_max=100.0, volume_step=0.1, volume_limit=0.0, swap_long=-15.3, swap_short=-2.3000000000000003, margin_initial=0.0, margin_maintenance=0.0, session_volume=0.0, session_turnover=0.0, session_interest=0.0, session_buy_orders_volume=0.0, session_sell_orders_volume=0.0, session_open=1.07389, session_close=1.07389, session_aw=0.0, session_price_settlement=0.0, session_price_limit_min=0.0, session_price_limit_max=0.0, margin_hedged=0.0, price_change=-0.3315, price_volatility=0.0, price_theoretical=0.0, price_greeks_delta=0.0, price_greeks_theta=0.0, price_greeks_gamma=0.0, price_greeks_vega=0.0, price_greeks_rho=0.0, price_greeks_omega=0.0, price_sensitivity=0.0, basis='', category='', currency_base='EUR', currency_profit='USD', currency_margin='EUR', bank='', description='Euro vs. United States Dollar', exchange='', formula='', isin='', name='EURUSD', page='', path='Forex\\\\FX-Majors\\\\EURUSD')"
      ]
     },
     "execution_count": 89,
     "metadata": {},
     "output_type": "execute_result"
    }
   ],
   "source": [
    "mt5.symbol_info(\"EURUSD\")"
   ]
  },
  {
   "cell_type": "markdown",
   "id": "80ed8f72",
   "metadata": {},
   "source": [
    "### Cerrar una orden de compra"
   ]
  },
  {
   "cell_type": "code",
   "execution_count": 98,
   "id": "c250ccf7",
   "metadata": {},
   "outputs": [
    {
     "data": {
      "text/plain": [
       "OrderSendResult(retcode=10009, deal=0, order=231536930, volume=0.1, price=0.0, bid=0.0, ask=0.0, comment='Request executed', request_id=13, retcode_external=0, request=TradeRequest(action=1, magic=0, order=0, symbol='EURUSD', volume=0.1, price=1.0692, stoplimit=0.0, sl=0.0, tp=0.0, deviation=10, type=1, type_filling=1, type_time=0, expiration=0, comment='', position=231536005, position_by=0))"
      ]
     },
     "execution_count": 98,
     "metadata": {},
     "output_type": "execute_result"
    }
   ],
   "source": [
    "request = {\n",
    "    \"action\": mt5.TRADE_ACTION_DEAL,\n",
    "    \"symbol\": symbol,\n",
    "    \"position\":231536005,\n",
    "    \"volume\": lot,\n",
    "    \"type\": mt5.ORDER_TYPE_SELL,\n",
    "    \"price\": mt5.symbol_info_tick(symbol).bid,\n",
    "    \"deviation\": deviation,\n",
    "    \"type_filling\": 1,#filling_type,\n",
    "    \"type_time\": mt5.ORDER_TIME_GTC\n",
    "}\n",
    "\n",
    "mt5.order_send(request)"
   ]
  },
  {
   "cell_type": "code",
   "execution_count": null,
   "id": "b9b8e549",
   "metadata": {},
   "outputs": [],
   "source": []
  },
  {
   "cell_type": "markdown",
   "id": "da90ca87",
   "metadata": {},
   "source": [
    "### Cerrar una orden de venta"
   ]
  },
  {
   "cell_type": "code",
   "execution_count": 101,
   "id": "9c9e8bea",
   "metadata": {},
   "outputs": [
    {
     "data": {
      "text/plain": [
       "OrderSendResult(retcode=10009, deal=0, order=231537774, volume=0.1, price=0.0, bid=0.0, ask=0.0, comment='Request executed', request_id=15, retcode_external=0, request=TradeRequest(action=1, magic=0, order=0, symbol='EURUSD', volume=0.1, price=1.06986, stoplimit=0.0, sl=0.0, tp=0.0, deviation=10, type=0, type_filling=1, type_time=0, expiration=0, comment='', position=231537298, position_by=0))"
      ]
     },
     "execution_count": 101,
     "metadata": {},
     "output_type": "execute_result"
    }
   ],
   "source": [
    "request = {\n",
    "    \"action\": mt5.TRADE_ACTION_DEAL,\n",
    "    \"symbol\": symbol,\n",
    "    \"position\":231537298,\n",
    "    \"volume\": lot,\n",
    "    \"type\": mt5.ORDER_TYPE_BUY,\n",
    "    \"price\": mt5.symbol_info_tick(symbol).ask,\n",
    "    \"deviation\": deviation,\n",
    "    \"type_filling\": 1, #filling_type,\n",
    "    \"type_time\": mt5.ORDER_TIME_GTC\n",
    "}\n",
    "\n",
    "mt5.order_send(request)"
   ]
  },
  {
   "cell_type": "code",
   "execution_count": null,
   "id": "e49690c0",
   "metadata": {},
   "outputs": [],
   "source": []
  },
  {
   "cell_type": "markdown",
   "id": "5c33cab2",
   "metadata": {},
   "source": [
    "### Automatizar el proceso"
   ]
  },
  {
   "cell_type": "code",
   "execution_count": 102,
   "id": "2bfc8a0b",
   "metadata": {},
   "outputs": [],
   "source": [
    "def send_order(symbol, lot, buy, sell, id_position=None, comment=\" No specific comment\", magic=0):\n",
    "    \n",
    "    # Initialize the bound between MT5 and Python\n",
    "    mt5.initialize()\n",
    "    \n",
    "    # Extract filling_mode\n",
    "    filling_type = 1 # mt5.symbol_info(symbol).filling_mode\n",
    "    \n",
    "    \n",
    "    \"\"\" ABRIR UNA OPERACIÓN \"\"\"\n",
    "    if buy and id_position==None:\n",
    "        request = {\n",
    "        \"action\": mt5.TRADE_ACTION_DEAL,\n",
    "        \"symbol\": symbol,\n",
    "        \"volume\": lot,\n",
    "        \"type\": mt5.ORDER_TYPE_BUY,\n",
    "        \"price\": mt5.symbol_info_tick(symbol).ask,\n",
    "        \"deviation\": 10,\n",
    "        \"magic\": magic,\n",
    "        \"comment\": comment,\n",
    "        \"type_filling\": filling_type,\n",
    "        \"type_time\": mt5.ORDER_TIME_GTC}\n",
    "        \n",
    "        result = mt5.order_send(request)\n",
    "        return result\n",
    "        \n",
    "    if sell and id_position==None:\n",
    "        request = {\n",
    "        \"action\": mt5.TRADE_ACTION_DEAL,\n",
    "        \"symbol\": symbol,\n",
    "        \"volume\": lot,\n",
    "        \"type\": mt5.ORDER_TYPE_SELL,\n",
    "        \"price\": mt5.symbol_info_tick(symbol).bid,\n",
    "        \"deviation\": 10,\n",
    "        \"magic\": magic,\n",
    "        \"comment\": comment,\n",
    "        \"type_filling\": filling_type,\n",
    "        \"type_time\": mt5.ORDER_TIME_GTC}\n",
    "        \n",
    "        result = mt5.order_send(request)\n",
    "        return result\n",
    "    \n",
    "    \n",
    "    \"\"\" CERRAR UNA OPERACIÓN \"\"\"\n",
    "    if buy and id_position!=None:\n",
    "        request = {\n",
    "        \"position\": id_position,\n",
    "        \"action\": mt5.TRADE_ACTION_DEAL,\n",
    "        \"symbol\": symbol,\n",
    "        \"volume\": lot,\n",
    "        \"type\": mt5.ORDER_TYPE_SELL,\n",
    "        \"price\": mt5.symbol_info_tick(symbol).bid,\n",
    "        \"deviation\": 10,\n",
    "        \"magic\": magic,\n",
    "        \"comment\": comment,\n",
    "        \"type_filling\": filling_type,\n",
    "        \"type_time\": mt5.ORDER_TIME_GTC}\n",
    "        \n",
    "        result = mt5.order_send(request)\n",
    "        return result\n",
    "        \n",
    "    if sell and id_position!=None:\n",
    "        request = {\n",
    "        \"position\": id_position,\n",
    "        \"action\": mt5.TRADE_ACTION_DEAL,\n",
    "        \"symbol\": symbol,\n",
    "        \"volume\": lot,\n",
    "        \"type\": mt5.ORDER_TYPE_BUY,\n",
    "        \"price\": mt5.symbol_info_tick(symbol).ask,\n",
    "        \"deviation\": 10,\n",
    "        \"magic\": magic,\n",
    "        \"comment\": comment,\n",
    "        \"type_filling\": filling_type,\n",
    "        \"type_time\": mt5.ORDER_TIME_GTC}\n",
    "        \n",
    "        result = mt5.order_send(request)\n",
    "        return result\n",
    "    \n"
   ]
  },
  {
   "cell_type": "code",
   "execution_count": 106,
   "id": "11cc36ae",
   "metadata": {},
   "outputs": [
    {
     "data": {
      "text/plain": [
       "OrderSendResult(retcode=10009, deal=0, order=231540311, volume=0.1, price=0.0, bid=0.0, ask=0.0, comment='Request executed', request_id=19, retcode_external=0, request=TradeRequest(action=1, magic=0, order=0, symbol='USDJPY', volume=0.1, price=131.165, stoplimit=0.0, sl=0.0, tp=0.0, deviation=10, type=0, type_filling=1, type_time=0, expiration=0, comment=' No specific comment', position=0, position_by=0))"
      ]
     },
     "execution_count": 106,
     "metadata": {},
     "output_type": "execute_result"
    }
   ],
   "source": [
    "information = send_order(\"USDJPY\", 0.1, True, False)\n",
    "information"
   ]
  },
  {
   "cell_type": "code",
   "execution_count": 107,
   "id": "cb5d427d",
   "metadata": {},
   "outputs": [
    {
     "data": {
      "text/plain": [
       "OrderSendResult(retcode=10009, deal=0, order=231540353, volume=0.1, price=0.0, bid=0.0, ask=0.0, comment='Request executed', request_id=20, retcode_external=0, request=TradeRequest(action=1, magic=0, order=0, symbol='USDJPY', volume=0.1, price=131.192, stoplimit=0.0, sl=0.0, tp=0.0, deviation=10, type=1, type_filling=1, type_time=0, expiration=0, comment=' No specific comment', position=231540311, position_by=0))"
      ]
     },
     "execution_count": 107,
     "metadata": {},
     "output_type": "execute_result"
    }
   ],
   "source": [
    "send_order(\"USDJPY\", 0.1, True, False, id_position=information.order)"
   ]
  },
  {
   "cell_type": "code",
   "execution_count": null,
   "id": "e76787d2",
   "metadata": {},
   "outputs": [],
   "source": []
  }
 ],
 "metadata": {
  "kernelspec": {
   "display_name": "Python 3 (ipykernel)",
   "language": "python",
   "name": "python3"
  },
  "language_info": {
   "codemirror_mode": {
    "name": "ipython",
    "version": 3
   },
   "file_extension": ".py",
   "mimetype": "text/x-python",
   "name": "python",
   "nbconvert_exporter": "python",
   "pygments_lexer": "ipython3",
   "version": "3.9.13"
  }
 },
 "nbformat": 4,
 "nbformat_minor": 5
}
